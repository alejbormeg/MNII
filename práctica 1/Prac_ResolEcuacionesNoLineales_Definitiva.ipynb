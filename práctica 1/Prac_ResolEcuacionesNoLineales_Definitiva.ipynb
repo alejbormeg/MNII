{
 "cells": [
  {
   "cell_type": "markdown",
   "metadata": {},
   "source": [
    "# Resolución numérica de ecuaciones no lineales"
   ]
  },
  {
   "cell_type": "markdown",
   "metadata": {},
   "source": [
    "Autor: Pedro González Rodelas\n",
    "\n",
    "Fecha de la primera versión: 10/08/2017\n",
    "\n",
    "Sucesivas revisiones: 15/08/2017, 19/10/2018 y 15,22/03/2020\n",
    "\n",
    "Fecha de la última revisión: 20/04/2020\n",
    "\n",
    "Notebook adaptado y extendido a partir del notebook original realizado con Mathematica e incluido en el libro:\n",
    "\n",
    "\"Análisis Numérico con Mathematica\" de Ariel Ciencia. ISBN: "
   ]
  },
  {
   "cell_type": "code",
   "execution_count": 1,
   "metadata": {},
   "outputs": [
    {
     "data": {
      "application/json": {
       "Software versions": [
        {
         "module": "Python",
         "version": "3.7.4 64bit [MSC v.1915 64 bit (AMD64)]"
        },
        {
         "module": "IPython",
         "version": "7.8.0"
        },
        {
         "module": "OS",
         "version": "Windows 10 10.0.18362 SP0"
        },
        {
         "module": "numpy",
         "version": "1.16.5"
        },
        {
         "module": "matplotlib",
         "version": "3.1.1"
        },
        {
         "module": "sympy",
         "version": "1.4"
        }
       ]
      },
      "text/html": [
       "<table><tr><th>Software</th><th>Version</th></tr><tr><td>Python</td><td>3.7.4 64bit [MSC v.1915 64 bit (AMD64)]</td></tr><tr><td>IPython</td><td>7.8.0</td></tr><tr><td>OS</td><td>Windows 10 10.0.18362 SP0</td></tr><tr><td>numpy</td><td>1.16.5</td></tr><tr><td>matplotlib</td><td>3.1.1</td></tr><tr><td>sympy</td><td>1.4</td></tr><tr><td colspan='2'>Mon Mar 23 16:33:27 2020 Hora estándar romance</td></tr></table>"
      ],
      "text/latex": [
       "\\begin{tabular}{|l|l|}\\hline\n",
       "{\\bf Software} & {\\bf Version} \\\\ \\hline\\hline\n",
       "Python & 3.7.4 64bit [MSC v.1915 64 bit (AMD64)] \\\\ \\hline\n",
       "IPython & 7.8.0 \\\\ \\hline\n",
       "OS & Windows 10 10.0.18362 SP0 \\\\ \\hline\n",
       "numpy & 1.16.5 \\\\ \\hline\n",
       "matplotlib & 3.1.1 \\\\ \\hline\n",
       "sympy & 1.4 \\\\ \\hline\n",
       "\\hline \\multicolumn{2}{|l|}{Mon Mar 23 16:33:27 2020 Hora estándar romance} \\\\ \\hline\n",
       "\\end{tabular}\n"
      ],
      "text/plain": [
       "Software versions\n",
       "Python 3.7.4 64bit [MSC v.1915 64 bit (AMD64)]\n",
       "IPython 7.8.0\n",
       "OS Windows 10 10.0.18362 SP0\n",
       "numpy 1.16.5\n",
       "matplotlib 3.1.1\n",
       "sympy 1.4\n",
       "Mon Mar 23 16:33:27 2020 Hora estándar romance"
      ]
     },
     "execution_count": 1,
     "metadata": {},
     "output_type": "execute_result"
    }
   ],
   "source": [
    "# Cargando el fichero version_information.py\n",
    "# alojado el directorio de trabajo actual\n",
    "# podremos comprobar las versiones concretas\n",
    "# tanto del intérprete de Python, como de los\n",
    "# módulos empleados.\n",
    "\n",
    "%reload_ext version_information\n",
    "\n",
    "%version_information numpy, matplotlib, sympy"
   ]
  },
  {
   "cell_type": "markdown",
   "metadata": {},
   "source": [
    "En esta práctica vamos a usar varios procedimientos computacionales ya implementados en alguno de los módulos o librerías de Python, así como revisar e implementar nosotros mismos otros métodos numéricos varios para calcular o aproximar las raíces, también llamados ceros, de una cierta función $f(x)$ en un intervalo $[a,b]$ de la recta real."
   ]
  },
  {
   "cell_type": "markdown",
   "metadata": {},
   "source": [
    "## Carga de los módulos y funciones empleadas"
   ]
  },
  {
   "cell_type": "markdown",
   "metadata": {},
   "source": [
    "Antes de empezar a realizar cualquier cálculo numérico o simbólico debemos de cargar los correspondientes módulos de Python que implementan la mayoría de funciones y procedimientos necesarios para ello: NumPy y SymPy, que serán cargados con los pseudónimos np y sp, respectivamente. Además cargaremos también el submódulo PyPlot, del paquete MatPlotlib, que nos permitirá realizar las representaciones gráficas que nos ayudarán a visualizar todo el proceso."
   ]
  },
  {
   "cell_type": "code",
   "execution_count": null,
   "metadata": {},
   "outputs": [],
   "source": []
  },
  {
   "cell_type": "code",
   "execution_count": 153,
   "metadata": {},
   "outputs": [],
   "source": [
    "import numpy as np\n",
    "%matplotlib inline\n",
    "import matplotlib.pyplot as plt"
   ]
  },
  {
   "cell_type": "code",
   "execution_count": 154,
   "metadata": {},
   "outputs": [],
   "source": [
    "import sympy as sp\n",
    "# sp.init_printing()   \n",
    "# En la versión 1.4 de Sympy conviene dejar comentada esta linea anterior"
   ]
  },
  {
   "cell_type": "code",
   "execution_count": 155,
   "metadata": {},
   "outputs": [],
   "source": [
    "from numpy import sign\n",
    "# Esta función de NumPy nos permitirá calcular el signo de un número"
   ]
  },
  {
   "cell_type": "code",
   "execution_count": 156,
   "metadata": {},
   "outputs": [
    {
     "data": {
      "text/plain": [
       "Context(prec=28, rounding=ROUND_HALF_EVEN, Emin=-999999, Emax=999999, capitals=1, clamp=0, flags=[Inexact, FloatOperation, Rounded], traps=[InvalidOperation, DivisionByZero, Overflow])"
      ]
     },
     "execution_count": 156,
     "metadata": {},
     "output_type": "execute_result"
    }
   ],
   "source": [
    "from decimal import *\n",
    "# Este módulo nos permitirá trabajar con un precisión determinada\n",
    "getcontext()"
   ]
  },
  {
   "cell_type": "code",
   "execution_count": 157,
   "metadata": {},
   "outputs": [
    {
     "data": {
      "text/plain": [
       "28"
      ]
     },
     "execution_count": 157,
     "metadata": {},
     "output_type": "execute_result"
    }
   ],
   "source": [
    "mporig = getcontext().prec\n",
    "mporig  # Esta sería la precisión con la que se trabaja por defecto"
   ]
  },
  {
   "cell_type": "code",
   "execution_count": 158,
   "metadata": {},
   "outputs": [],
   "source": [
    "def mychop(expr, *, max=10**(-16)):\n",
    "    ''' Esta función redondea por cero cualquier número más\n",
    "    pequeño a la cantidad máxima indicada'''\n",
    "    if abs(expr) > max:\n",
    "      return expr \n",
    "    else:\n",
    "      return 0"
   ]
  },
  {
   "cell_type": "code",
   "execution_count": 159,
   "metadata": {},
   "outputs": [],
   "source": [
    "chop_vec = np.vectorize(mychop) # esta variante vectorizada será muy\n",
    "# útil cuando tengamos que aplicar la función mychop a listas o arrays"
   ]
  },
  {
   "cell_type": "markdown",
   "metadata": {
    "collapsed": true
   },
   "source": [
    "En un primer momento podríamos intentar tratar de obtener simbólicamente la o las posibles raíces."
   ]
  },
  {
   "cell_type": "markdown",
   "metadata": {},
   "source": [
    "Para ello debemos comenzar definiendo una variable simbólica gracias a la orden Symbol, perteneciente al módulo de cálculo simbólico SymPy, que recordamos que se ha cargado previamente con el alias sp, así como la función con la que vamos a trabajar, tanto de manera simbólica como numérica. "
   ]
  },
  {
   "cell_type": "code",
   "execution_count": 160,
   "metadata": {},
   "outputs": [],
   "source": [
    "x = sp.Symbol('x')"
   ]
  },
  {
   "cell_type": "markdown",
   "metadata": {},
   "source": [
    "También definiremos la misma expresión de dicha función pero usando tanto una definición como función simbólica (cargando la función exponencial a partir del módulo simbólico SymPy) como numérica (utilizando esta vez la implementación de la exponencial que viene incluida en el módulo NumPy). Posteriormente, intercambiaremos la definición de nuestra función $f(x)$, usando una definición u otra, según nos convenga."
   ]
  },
  {
   "cell_type": "code",
   "execution_count": 161,
   "metadata": {},
   "outputs": [],
   "source": [
    "def fsym(x):\n",
    "    ''' función sp.exp(x)-3'''\n",
    "    return sp.exp(x)-3"
   ]
  },
  {
   "cell_type": "code",
   "execution_count": 11,
   "metadata": {},
   "outputs": [],
   "source": [
    "def fnum(x):\n",
    "    ''' función np.exp(x)-3'''\n",
    "    return np.exp(x)-3"
   ]
  },
  {
   "cell_type": "code",
   "execution_count": 162,
   "metadata": {},
   "outputs": [],
   "source": [
    "def f(x):\n",
    "    '''Versión simbólica de la función'''\n",
    "    return fsym(x)   "
   ]
  },
  {
   "cell_type": "code",
   "execution_count": 163,
   "metadata": {},
   "outputs": [],
   "source": [
    "a = 0; b = 2;"
   ]
  },
  {
   "cell_type": "code",
   "execution_count": 164,
   "metadata": {},
   "outputs": [
    {
     "data": {
      "text/plain": [
       "(-2, -3 + exp(2))"
      ]
     },
     "execution_count": 164,
     "metadata": {},
     "output_type": "execute_result"
    }
   ],
   "source": [
    "f(a),f(b)"
   ]
  },
  {
   "cell_type": "code",
   "execution_count": 165,
   "metadata": {},
   "outputs": [
    {
     "data": {
      "image/png": "[encoded data removed]",
      "text/plain": [
       "<Figure size 432x288 with 1 Axes>"
      ]
     },
     "metadata": {
      "needs_background": "light"
     },
     "output_type": "display_data"
    },
    {
     "data": {
      "text/plain": [
       "<sympy.plotting.plot.Plot at 0x2205791ee08>"
      ]
     },
     "execution_count": 165,
     "metadata": {},
     "output_type": "execute_result"
    }
   ],
   "source": [
    "sp.plot(f(x),(x,a,b))"
   ]
  },
  {
   "cell_type": "code",
   "execution_count": 166,
   "metadata": {},
   "outputs": [
    {
     "name": "stdout",
     "output_type": "stream",
     "text": [
      "log(3)\n"
     ]
    }
   ],
   "source": [
    "sol_exact = sp.solve(f(x),x)[0]\n",
    "print(sol_exact)"
   ]
  },
  {
   "cell_type": "code",
   "execution_count": 167,
   "metadata": {},
   "outputs": [
    {
     "data": {
      "text/latex": [
       "$\\displaystyle 1.09861228866811$"
      ],
      "text/plain": [
       "1.09861228866811"
      ]
     },
     "execution_count": 167,
     "metadata": {},
     "output_type": "execute_result"
    }
   ],
   "source": [
    "sol_exact.evalf()"
   ]
  },
  {
   "cell_type": "markdown",
   "metadata": {},
   "source": [
    "No obstante, es bien sabido que no siempre es posible, ni fácil, encontrar simbólicamente las raices de ciertas ecuaciones de tipo trascendente o incluso polinómicas de grado superior. Por ello es habitual y más recomendable emplear algún método numérico para aproximar las posibles raices de las ecuaciones de tipo no lineal. En todo caso, lo primero que tenemos que hacer es estudiar si efectivamente dicha ecuación puede tener soluciones reales y comprobar que se dan las condiciones adecuadas para poder aplicar el método correspondiente. Muchas veces lo mejor será ayudarnos previamente,  siempre que podamos, con una representación gráfica de la función en un intervalo apropiado. De esta manera, la ecuación tendrá una interpretación geométrica muy clara, como la búsqueda de los puntos de corte de la gráfica de dicha función con el eje $ OX$."
   ]
  },
  {
   "cell_type": "code",
   "execution_count": 168,
   "metadata": {},
   "outputs": [
    {
     "name": "stdout",
     "output_type": "stream",
     "text": [
      "Object `f # esto nos permitirá mostrar la documentación que hemos incluido` not found.\n"
     ]
    }
   ],
   "source": [
    "?f # esto nos permitirá mostrar la documentación que hemos incluido\n",
    "# entre triples comillas en la definición"
   ]
  },
  {
   "cell_type": "code",
   "execution_count": 169,
   "metadata": {},
   "outputs": [],
   "source": [
    "a = 0.; b = 2.; "
   ]
  },
  {
   "cell_type": "code",
   "execution_count": 170,
   "metadata": {},
   "outputs": [],
   "source": [
    "# ahora nos interesará emplear la versión numérica de la función\n",
    "# por lo que nos convendrá intercambiar la definición de f(x)\n",
    "def f(x):\n",
    "    '''Versión numérica de la función'''\n",
    "    return fnum(x)"
   ]
  },
  {
   "cell_type": "code",
   "execution_count": 171,
   "metadata": {},
   "outputs": [],
   "source": [
    "nxx = 100;\n",
    "xx = np.linspace(a,b,nxx)\n",
    "yy = f(xx)   "
   ]
  },
  {
   "cell_type": "code",
   "execution_count": 173,
   "metadata": {},
   "outputs": [
    {
     "data": {
      "text/plain": [
       "array([-2.        , -1.97959254, -1.95876861, -1.93751972, -1.9158372 ,\n",
       "       -1.89371218, -1.87113566, -1.8480984 , -1.82459101, -1.8006039 ,\n",
       "       -1.77612727, -1.75115113, -1.7256653 , -1.69965936, -1.67312271,\n",
       "       -1.64604451, -1.61841371, -1.59021904, -1.56144899, -1.53209182,\n",
       "       -1.50213553, -1.47156792, -1.4403765 , -1.40854854, -1.37607106,\n",
       "       -1.34293079, -1.30911421, -1.27460753, -1.23939664, -1.2034672 ,\n",
       "       -1.16680452, -1.12939366, -1.09121933, -1.05226596, -1.01251765,\n",
       "       -0.97195818, -0.93057099, -0.8883392 , -0.84524556, -0.80127249,\n",
       "       -0.75640204, -0.7106159 , -0.66389538, -0.61622142, -0.56757455,\n",
       "       -0.51793492, -0.46728227, -0.41559592, -0.3628548 , -0.30903736,\n",
       "       -0.25412164, -0.19808523, -0.14090526, -0.08255839, -0.02302081,\n",
       "        0.03773178,  0.09972417,  0.16298168,  0.22753011,  0.2933958 ,\n",
       "        0.36060565,  0.42918709,  0.49916809,  0.57057723,  0.64344365,\n",
       "        0.71779709,  0.79366789,  0.87108703,  0.95008609,  1.03069732,\n",
       "        1.11295363,  1.19688857,  1.28253642,  1.36993212,  1.45911134,\n",
       "        1.55011049,  1.64296669,  1.73771786,  1.83440266,  1.93306055,\n",
       "        2.03373179,  2.13645748,  2.24127955,  2.34824076,  2.45738478,\n",
       "        2.56875615,  2.68240033,  2.7983637 ,  2.91669359,  3.03743829,\n",
       "        3.16064708,  3.28637026,  3.41465912,  3.54556603,  3.67914442,\n",
       "        3.81544881,  3.95453482,  4.09645923,  4.24127995,  4.3890561 ])"
      ]
     },
     "execution_count": 173,
     "metadata": {},
     "output_type": "execute_result"
    }
   ],
   "source": [
    "yy"
   ]
  },
  {
   "cell_type": "code",
   "execution_count": 22,
   "metadata": {},
   "outputs": [
    {
     "data": {
      "image/png": "[encoded data removed]",
      "text/plain": [
       "<Figure size 432x288 with 1 Axes>"
      ]
     },
     "metadata": {
      "needs_background": "light"
     },
     "output_type": "display_data"
    }
   ],
   "source": [
    "plt.plot(xx,yy);"
   ]
  },
  {
   "cell_type": "markdown",
   "metadata": {},
   "source": [
    "Con la ayuda de este gráfico standard de MatPlotlib (en su API simplificada tipo MATLAB) podemos intuir donde podría estar el punto de corte de dicha gráfica con el eje $Ox$, no obstante convendría ajustar alguna de las opciones por defecto de los gráficos de MatPlotlib, usando más bien su API tipo orientada a objetos, como veremos a continuación, con el objeto de poder controlar la posición exacta de los ejes, por ejemplo."
   ]
  },
  {
   "cell_type": "code",
   "execution_count": 23,
   "metadata": {},
   "outputs": [
    {
     "data": {
      "image/png": "[encoded data removed]",
      "text/plain": [
       "<Figure size 432x288 with 1 Axes>"
      ]
     },
     "metadata": {
      "needs_background": "light"
     },
     "output_type": "display_data"
    }
   ],
   "source": [
    "fig, ax = plt.subplots()  # de esta forma generamos una instancia\n",
    "# de la clase figura, con sus correspondientes ejes \n",
    "# y con posibilidad de incluir varios gráficos en ella\n",
    "\n",
    "# estas opciones evitan que se dibujen\n",
    "ax.spines['right'].set_color('none')   # tanto el borde derecho\n",
    "ax.spines['top'].set_color('none') # como el superior del gráfico\n",
    " \n",
    "# mientras que las opciones siguientes sirven\n",
    "ax.xaxis.set_ticks_position('bottom')\n",
    "# para fijar la posición de las marcas en la parte inferior \n",
    "ax.spines['bottom'].set_position(('data',0)) \n",
    "# y situar el eje Ox en la recta horizontal y=0\n",
    "\n",
    "# y estas para fijar la posición de las marcas \n",
    "ax.yaxis.set_ticks_position('left')  # a la izquierda del eje Oy\n",
    "ax.spines['left'].set_position(('data',0))   \n",
    "# y situar éste en la recta vertical x=0\n",
    "\n",
    "# ahora es cuando generamos el gráfico en sí\n",
    "ax.plot(xx, yy); # como una instancia de la clase ejes"
   ]
  },
  {
   "cell_type": "markdown",
   "metadata": {},
   "source": [
    "Vemos claramente que esta función posee una raíz, también llamado cero o punto de corte con el eje $Ox$ cerca del valor real $1.0$ y en todo caso comprendido entre los valores $1.0$ y $1.5$. Esta simple idea de ir acotando el cero de una función *contínua* entre dos valores reales, entre los cuales se encuentre el punto de corte con el eje $Ox$, podría servirnos para aproximar cada vez más dicho cero o raíz, pudiéndose realizar todo este proceso de manera gráfica, como veremos a continuación."
   ]
  },
  {
   "cell_type": "code",
   "execution_count": 24,
   "metadata": {},
   "outputs": [],
   "source": [
    "a_1 = 1.0; b_1 = 1.5; \n",
    "xxbis = np.linspace(a_1,b_1,nxx)\n",
    "yybis = f(xxbis)"
   ]
  },
  {
   "cell_type": "code",
   "execution_count": 25,
   "metadata": {},
   "outputs": [
    {
     "data": {
      "image/png": "[encoded data removed]",
      "text/plain": [
       "<Figure size 432x288 with 2 Axes>"
      ]
     },
     "metadata": {
      "needs_background": "light"
     },
     "output_type": "display_data"
    }
   ],
   "source": [
    "fig = plt.figure()\n",
    "\n",
    "ax1 = fig.add_axes([0.1, 0.1, 0.8, 0.8]) # Ejes principales\n",
    "ax2 = fig.add_axes([0.2, 0.5, 0.4, 0.3]) # Ejes insertados\n",
    "\n",
    "ax1.spines['right'].set_color('none')   \n",
    "ax1.spines['top'].set_color('none') \n",
    "ax1.xaxis.set_ticks_position('bottom') \n",
    "ax1.spines['bottom'].set_position(('data',0))  \n",
    "ax1.yaxis.set_ticks_position('left')\n",
    "ax1.spines['left'].set_position(('data',0))\n",
    "\n",
    "ax2.spines['right'].set_color('none')   \n",
    "ax2.spines['top'].set_color('none') \n",
    "ax2.xaxis.set_ticks_position('bottom') \n",
    "ax2.spines['bottom'].set_position(('data',0))  \n",
    "ax2.yaxis.set_ticks_position('left')\n",
    "# ax2.spines['left'].set_position(('data',0))\n",
    "\n",
    "# Figura principal\n",
    "ax1.plot(xx, yy, 'b')\n",
    "ax1.set_xlabel('x')\n",
    "ax1.set_ylabel('y')\n",
    "ax1.set_title('Grafica inicial en azul')\n",
    "\n",
    "# Subfigura insertada\n",
    "ax2.plot(xxbis, yybis, 'g')\n",
    "ax2.set_xlabel('x')\n",
    "ax2.set_ylabel('y')\n",
    "ax2.set_title('Zoom alrededor de la raíz');"
   ]
  },
  {
   "cell_type": "markdown",
   "metadata": {},
   "source": [
    "Repita usted mismo a continuación el proceso varias veces, hasta que consiga acotar el cero de esta misma función, con un error inferior a una milésima por ejemplo, modificando convenientemente los límites $a_1$ y $b_1$ del subintervalo considerado para representar sólamente un zoom de su gráfica inicial en el subintervalo adecuado."
   ]
  },
  {
   "cell_type": "code",
   "execution_count": 26,
   "metadata": {},
   "outputs": [],
   "source": [
    "a_1 = 1.098; b_1 = 1.099; \n",
    "xxbis = np.linspace(a_1,b_1,nxx)\n",
    "yybis = f(xxbis)"
   ]
  },
  {
   "cell_type": "code",
   "execution_count": 27,
   "metadata": {},
   "outputs": [
    {
     "data": {
      "image/png": "[encoded data removed]",
      "text/plain": [
       "<Figure size 432x288 with 1 Axes>"
      ]
     },
     "metadata": {
      "needs_background": "light"
     },
     "output_type": "display_data"
    }
   ],
   "source": [
    "fig, ax = plt.subplots() \n",
    "ax.spines['right'].set_color('none')   \n",
    "ax.spines['top'].set_color('none') \n",
    "ax.xaxis.set_ticks_position('bottom')\n",
    "# ax.spines['bottom'].set_position(('data',0))  \n",
    "ax.yaxis.set_ticks_position('left')    \n",
    "ax.plot(xxbis, yybis); "
   ]
  },
  {
   "cell_type": "markdown",
   "metadata": {},
   "source": [
    "Pero esta misma idea también es la base de otros métodos numéricos. En todos ellos partimos de que se dan las hipótesis del conocido teorema de Bolzano para la función $f$ en cierto intervalo de su dominio de definición; esto es, continuidad en dicho intervalo y cambio de signo para los valores de la función en los extremos del mismo. Así podremos  tener asegurada la existencia de al menos una raíz de la ecuación $f(x)=0$ en dicho intervalo.\n",
    "\n",
    "En esta misma idea se basan los denominados métodos de *bisección* y el de *regula-falsi*, que chequean en todo momento que el preceptivo cambio de signo entre los valores de la función en los extremos del subintervalo considerado en cada iteración del método sigue teniendo lugar."
   ]
  },
  {
   "cell_type": "markdown",
   "metadata": {},
   "source": [
    "### Método de búsqueda incremental"
   ]
  },
  {
   "cell_type": "markdown",
   "metadata": {},
   "source": [
    "Por otra parte, el denominado *método de búsqueda incremental* también va chequeando valores de la función continua en puntos sucesivos $x_i < x_{i+1} = x_i + \\Delta x $ para un cierto valor adecuado del incremento $\\Delta x > 0$. De manera que , si la función tiene ceros en el intervalo de partida y elegimos adecuadamente este valor del incremento, podremos localizar y aislar al menos algunos de ellos con este rudimentario procedimiento, aunque por supuesto que también adolece de algún que otro inconveniente:\n",
    "* Es posible que pasemos por alto sin detectar varios ceros demasiado próximos, si el incremento $\\Delta x$ no es lo suficientemente pequeño.\n",
    "* Las raíces dobles (ceros que coinciden) no serán detectadas por este tipo de procedimientos, ya que no necesariamente involucran cambio de signo.\n",
    "* Ciertas singularidades o discontinuidades de la función pueden dar lugar a incongruencias o falsos ceros, si no se verifica previamente la continuidad de la función en los subintervalos considerados."
   ]
  },
  {
   "cell_type": "markdown",
   "metadata": {},
   "source": [
    "Veámos a continuación una posible implementación en forma de módulo o función de este sencillo procedimiento. "
   ]
  },
  {
   "cell_type": "code",
   "execution_count": 28,
   "metadata": {},
   "outputs": [],
   "source": [
    "def buscaraiz(f,a,b,dx): \n",
    "    x1 = a; x2 = a + dx\n",
    "    f1 = f(x1); f2 = f(x2)\n",
    "    while sign(f1) == sign(f2):\n",
    "        if x1 >= b: return None,None\n",
    "        x1 = x2;  f1 = f2\n",
    "        x2 = x1 + dx; f2 = f(x2)\n",
    "    else:\n",
    "        return x1,x2"
   ]
  },
  {
   "cell_type": "code",
   "execution_count": 29,
   "metadata": {},
   "outputs": [
    {
     "name": "stdout",
     "output_type": "stream",
     "text": [
      "Object `f # recordemos qué función tenemos definida en este momento` not found.\n"
     ]
    }
   ],
   "source": [
    "?f # recordemos qué función tenemos definida en este momento"
   ]
  },
  {
   "cell_type": "code",
   "execution_count": 30,
   "metadata": {},
   "outputs": [
    {
     "data": {
      "text/plain": [
       "(0.0, 2.0)"
      ]
     },
     "execution_count": 30,
     "metadata": {},
     "output_type": "execute_result"
    }
   ],
   "source": [
    "a,b # así como el intervalo del que partíamos"
   ]
  },
  {
   "cell_type": "code",
   "execution_count": 31,
   "metadata": {},
   "outputs": [
    {
     "data": {
      "text/plain": [
       "(-1.0, 1.0)"
      ]
     },
     "execution_count": 31,
     "metadata": {},
     "output_type": "execute_result"
    }
   ],
   "source": [
    "sign(f(a)),sign(f(b)) # al haber cargado la función signo de NumPy\n",
    "# ya podemos chequear directamente si hay cambio de signo en el \n",
    "# intervalo de partida [a,b]"
   ]
  },
  {
   "cell_type": "code",
   "execution_count": 32,
   "metadata": {},
   "outputs": [
    {
     "data": {
      "text/plain": [
       "True"
      ]
     },
     "execution_count": 32,
     "metadata": {},
     "output_type": "execute_result"
    }
   ],
   "source": [
    "sign(f(a)) != sign(f(b)) # y utilizar la expresión lógica \n",
    "# correspondiente, con sólo dos posibles valores: True o False"
   ]
  },
  {
   "cell_type": "markdown",
   "metadata": {
    "collapsed": true
   },
   "source": [
    "Empecemos realizando ahora una búsqueda incremental con paso de una décima (dx = 0.1) y sigamos refinando la búsqueda con pasos correspondientes a una centésima (dx = 0.01), una milésima (dx = 0.001), etc. Otra idea útil sería tomar como aproximación de la raíz el punto medio de cada uno de los sucesivos intervalos en los que hayamos encajado la misma. Aunque ésto no garantizará ni mucho menos que hayamos conseguido siempre aproximar dicha raíz con una décima, centésima o milésima exacta, sí que tendremos asegurado que el error cometido será inferior a dicho valor del incremento dx."
   ]
  },
  {
   "cell_type": "code",
   "execution_count": 33,
   "metadata": {},
   "outputs": [
    {
     "name": "stdout",
     "output_type": "stream",
     "text": [
      "0.9999999999999999 1.0999999999999999\n",
      "1.0499999999999998\n"
     ]
    }
   ],
   "source": [
    "a1,b1 = buscaraiz(f,a,b,0.1) # búsqueda incremental con décimas \n",
    "print(a1,b1)\n",
    "print ((a1+b1)/2)"
   ]
  },
  {
   "cell_type": "code",
   "execution_count": 34,
   "metadata": {},
   "outputs": [
    {
     "name": "stdout",
     "output_type": "stream",
     "text": [
      "1.0899999999999999 1.0999999999999999\n",
      "1.0949999999999998\n"
     ]
    }
   ],
   "source": [
    "a2,b2 = buscaraiz(f,a1,b1,0.01) # búsqueda incremental con centésimas \n",
    "print(a2,b2)\n",
    "print ((a2+b2)/2)"
   ]
  },
  {
   "cell_type": "code",
   "execution_count": 35,
   "metadata": {},
   "outputs": [
    {
     "name": "stdout",
     "output_type": "stream",
     "text": [
      "1.097999999999999 1.0989999999999989\n",
      "1.098499999999999\n"
     ]
    }
   ],
   "source": [
    "a3,b3 = buscaraiz(f,a2,b2,0.001) # búsqueda incremental con milésimas\n",
    "print(a3,b3)\n",
    "print ((a3+b3)/2)"
   ]
  },
  {
   "cell_type": "markdown",
   "metadata": {},
   "source": [
    "También vamos a guardar dicho procedimiento en un fichero de Python 'buscaraiz.py' en nuestro directorio de trabajo, por si queremos usarlo posteriormente en una sesión de Python desde la terminal o bien desde cualquier sistema integrado de desarrolo (IDE, de las siglas en inglés) como Spyder, por ejemplo. "
   ]
  },
  {
   "cell_type": "code",
   "execution_count": 36,
   "metadata": {},
   "outputs": [
    {
     "data": {
      "text/plain": [
       "'C:\\\\Users\\\\Usuario\\\\Documents\\\\Métodos Numéricos II'"
      ]
     },
     "execution_count": 36,
     "metadata": {},
     "output_type": "execute_result"
    }
   ],
   "source": [
    "%pwd # esta orden de IPython se traduciría en la correspondiente\n",
    "# del sistema operativo que nos muestra dicho directorio de trabajo"
   ]
  },
  {
   "cell_type": "code",
   "execution_count": 1,
   "metadata": {},
   "outputs": [],
   "source": [
    "# %ls # esta orden de IPython se traduciría en la correspondiente\n",
    "# del sistema operativo que nos muestra los ficheros que allí hay"
   ]
  },
  {
   "cell_type": "code",
   "execution_count": 38,
   "metadata": {},
   "outputs": [
    {
     "name": "stdout",
     "output_type": "stream",
     "text": [
      "Overwriting buscaraiz.py\n"
     ]
    }
   ],
   "source": [
    "%%writefile buscaraiz.py\n",
    "\n",
    "## modulo buscaraiz\n",
    "'''\n",
    "x1,x2 = buscaraiz(f,a,b,dx)\n",
    "buscará dentro del intervalo [a,b] en incrementos de dx una acotación\n",
    "de la forma [x1,x2] de la raíz más pequeña de f(x) en dicho intervalo.\n",
    "Se devolverá x1 = x2 = None en caso de no encontrarse ninguna.\n",
    "'''\n",
    "# global f,a,b,dx\n",
    "\n",
    "def buscaraiz(f,a,b,dx): \n",
    "    x1 = a; x2 = a + dx\n",
    "    f1 = f(x1); f2 = f(x2)\n",
    "    while sign(f1) == sign(f2):\n",
    "        if x1 >= b: return None,None\n",
    "        x1 = x2;  f1 = f2\n",
    "        x2 = x1 + dx; f2 = f(x2)\n",
    "    else:\n",
    "        return x1,x2\n",
    "print(x1,x2)"
   ]
  },
  {
   "cell_type": "code",
   "execution_count": null,
   "metadata": {},
   "outputs": [],
   "source": [
    "# %ls *.py # comprobamos a continuación que tenemos el correspondiente\n",
    "# fichero que acabamos de generar con la extensión .py"
   ]
  },
  {
   "cell_type": "code",
   "execution_count": 40,
   "metadata": {},
   "outputs": [],
   "source": [
    "!type buscaraiz.py \n",
    "# esta orden de IPython se traduciría en la \n",
    "# correspondiente del sistema operativo que nos muestra el contenido "
   ]
  },
  {
   "cell_type": "code",
   "execution_count": 41,
   "metadata": {},
   "outputs": [],
   "source": [
    "# %python buscaraiz.py"
   ]
  },
  {
   "cell_type": "markdown",
   "metadata": {},
   "source": [
    "Por otra parte, en todos y cada uno de los métodos que se presentan a continuación será absolutamente necesario evitar la posibilidad de entrar en un posible \"bucle infinito\", que dejaría bloqueado al programa e incluso al sistema operativo del ordenador en el caso de que no consigamos interrumpir los cálculos (mediante el correspondiente comando en el menú $<$Kernel$>$-$<$Interrupt$>$ de iPython)."
   ]
  },
  {
   "cell_type": "markdown",
   "metadata": {},
   "source": [
    "Tendremos pues que idear unos ciertos criterios de parada, de manera que el proceso se detenga cuando los resultados obtenidos se diferencien en menos de un cierto valor, que será la tolerancia o error máximo permitido, **tol**; o bien, cuando sean realizadas un número máximo de iteraciones, **nmax**, que indicaremos de antemano.\n",
    " \n",
    "Por otro lado, para la comprobación de una posible raíz exacta de la ecuación, se ha implementado una condición del tipo \n",
    "$|f(c)<\\epsilon$, siendo $\\epsilon =10^{-\\sigma }$ con $\\sigma = 16$, que suele ser la precisión de la máquina cuando se trabaja en \"doble precisión\", que es lo habitual en cálculo numérico.\n",
    "\n",
    "Esto es debido a que, a no ser que se efectuaran todos los cálculos de forma simbólica (con la consecuente ralentización del proceso), siempre se realizan con una precisión limitada, y, por lo tanto, hay que considerar de esta manera la posibilidad de encontrar un valor de la raíz, afectado siempre por errores de redondeo, muy próximo a la raíz exacta de la ecuación. También se ofrece la posibilidad de solicitar que se calculen o simplemente se muestren todos los resultados con un número de cifras significativas determinado por el usuario, que en todo caso debe ser igual o inferior al valor de la  Precision de la Máquina con la que se trabaje."
   ]
  },
  {
   "cell_type": "code",
   "execution_count": 42,
   "metadata": {},
   "outputs": [],
   "source": [
    "mp = 10;\n",
    "getcontext().prec = mp"
   ]
  },
  {
   "cell_type": "code",
   "execution_count": 43,
   "metadata": {},
   "outputs": [
    {
     "data": {
      "text/plain": [
       "1e-10"
      ]
     },
     "execution_count": 43,
     "metadata": {},
     "output_type": "execute_result"
    }
   ],
   "source": [
    "prec = 10**(-mp)\n",
    "prec"
   ]
  },
  {
   "cell_type": "code",
   "execution_count": 44,
   "metadata": {},
   "outputs": [],
   "source": [
    "cifras = 5  # Número de cifras con el que queremos calcular \n",
    "# getcontext().prec = cifras # y presentar los resultados"
   ]
  },
  {
   "cell_type": "code",
   "execution_count": 45,
   "metadata": {},
   "outputs": [
    {
     "data": {
      "text/plain": [
       "1e-05"
      ]
     },
     "execution_count": 45,
     "metadata": {},
     "output_type": "execute_result"
    }
   ],
   "source": [
    "tol = 10**(-cifras)\n",
    "tol"
   ]
  },
  {
   "cell_type": "code",
   "execution_count": 46,
   "metadata": {},
   "outputs": [],
   "source": [
    "nmax = 100  # Número máximo de iteraciones"
   ]
  },
  {
   "cell_type": "markdown",
   "metadata": {},
   "source": [
    "## Algoritmos de resolución numérica de ecuaciones más empleados"
   ]
  },
  {
   "cell_type": "markdown",
   "metadata": {},
   "source": [
    "### Métodos de Bisección y regula-falsi"
   ]
  },
  {
   "cell_type": "markdown",
   "metadata": {},
   "source": [
    "A continuación tenemos la implementación del método de bisección (también llamado de bipartición).  Para obtener\n",
    "el algoritmo de regula-falsi bastará sustituir la línea de programa donde se calcula el valor de  $c$ como el punto medio del intervalo\n",
    "por la correspondiente asignación $c=b-\\frac{(a-b)f(b)}{f(a)-f(b)}$,\n",
    "que sería el punto de corte de la recta secante con el eje  $Ox$.\n",
    "\n",
    "Recuerde también que cuando se emplee este programa para aproximar una raíz de la ecuación     $f(x)=0$ se debe elegir\n",
    "un intervalo de partida adecuado en cada caso, de manera que se verifiquen la hipótesis del teorema de Bolzano."
   ]
  },
  {
   "cell_type": "code",
   "execution_count": 47,
   "metadata": {},
   "outputs": [
    {
     "data": {
      "text/plain": [
       "(0.0, 2.0)"
      ]
     },
     "execution_count": 47,
     "metadata": {},
     "output_type": "execute_result"
    }
   ],
   "source": [
    "a0 = a; b0 = b;   # conviene guardar una copia de los extremos del \n",
    "# intervalo original, ya que los iremos modificando en cada iteración\n",
    "a,b"
   ]
  },
  {
   "cell_type": "code",
   "execution_count": 48,
   "metadata": {},
   "outputs": [
    {
     "name": "stdout",
     "output_type": "stream",
     "text": [
      "Aproximación solicitada:  1.09860992431640625\n",
      "Solución exacta con  5  cifras significativas 1.0986\n",
      "Número total de iteraciones  18\n"
     ]
    }
   ],
   "source": [
    "niter = 0; getcontext().prec = mp\n",
    "for k in range(nmax):\n",
    "    niter = niter + 1;\n",
    "    c = a + (b-a)/2 # equivalente a c = (a+b)/2\n",
    "    if abs(f(c)) < prec:\n",
    "        sale = 'precision'\n",
    "        break\n",
    "    if sign(f(a)) != sign(f(c)):\n",
    "        b = c\n",
    "    else:\n",
    "        a = c\n",
    "    if b-a < tol:\n",
    "        sale = 'tolerancia'\n",
    "        break\n",
    "        \n",
    "if sale == 'precision':\n",
    "    print('Posiblemente solución exacta: ',Decimal(c))\n",
    "elif k <= nmax:\n",
    "    print('Aproximación solicitada: ',Decimal(c))\n",
    "else:\n",
    "    print('Se llegó al número máximo de iteraciones')\n",
    "print('Solución exacta con ', cifras, ' cifras significativas', sol_exact.evalf(n=cifras))\n",
    "print('Número total de iteraciones ', niter)\n",
    "\n",
    "a = a0; b = b0 # Restauramos los valores originales de a y b\n",
    "getcontext().prec = mporig # así como la precisión por defecto"
   ]
  },
  {
   "cell_type": "markdown",
   "metadata": {},
   "source": [
    "Repitamos ahora el mismo algoritmo, pero usando una precisión y número de cifras significativas concreto, indicado por el valor dee la variable `cifras`. Para ello convirtamos previamente los valores extremos del intervalo al formato decimal determinado por la precisión que hemos forzado en este caso."
   ]
  },
  {
   "cell_type": "code",
   "execution_count": 49,
   "metadata": {},
   "outputs": [],
   "source": [
    "a,b = Decimal(a),Decimal(b)"
   ]
  },
  {
   "cell_type": "code",
   "execution_count": 50,
   "metadata": {},
   "outputs": [
    {
     "data": {
      "text/plain": [
       "(Decimal('0'), Decimal('2'))"
      ]
     },
     "execution_count": 50,
     "metadata": {},
     "output_type": "execute_result"
    }
   ],
   "source": [
    "a,b"
   ]
  },
  {
   "cell_type": "code",
   "execution_count": 51,
   "metadata": {},
   "outputs": [
    {
     "name": "stdout",
     "output_type": "stream",
     "text": [
      "Posiblemente solución exacta:  1.0986\n",
      "Solución exacta con  5  cifras significativas 1.0986\n",
      "Número total de iteraciones  11\n"
     ]
    }
   ],
   "source": [
    "niter = 0; getcontext().prec = cifras\n",
    "for k in range(nmax):\n",
    "    niter = niter + 1;\n",
    "    c = a + (b-a)/2 # equivalente a c = (a+b)/2\n",
    "    if abs(f(c)) < prec:\n",
    "        sale = 'precision'\n",
    "        break\n",
    "    if sign(f(a)) != sign(f(c)):\n",
    "        b = c\n",
    "    else:\n",
    "        a = c\n",
    "    if b-a < tol:\n",
    "        sale = 'tolerancia'\n",
    "        break\n",
    "\n",
    "if sale == 'precision':\n",
    "    print('Posiblemente solución exacta: ',c)\n",
    "elif k <= nmax:\n",
    "    print('Aproximación solicitada: ',Decimal(c))\n",
    "else:\n",
    "    print('Se llegó al número máximo de iteraciones')\n",
    "print('Solución exacta con ', cifras, ' cifras significativas', sol_exact.evalf(n=cifras))\n",
    "print('Número total de iteraciones ', niter)\n",
    "\n",
    "a = a0; b = b0 # Restauramos los valores originales de a y b\n",
    "getcontext().prec = mporig # así como la precisión por defecto"
   ]
  },
  {
   "cell_type": "markdown",
   "metadata": {},
   "source": [
    "Vemos cómo, en efecto, se ha debido de  cumplir uno de los criterios de parada impuestos en un  número finito de iteraciones. Así pues,  el método ha sido capaz de calcular una aproximación de la raíz de la ecuación con algunas cifras decimales exactas;\n",
    "esto lo podemos concluir en este caso ya que una variación pequeña, que ha sido el error máximo cometido o tolerancia, podría\n",
    "cambiar como mucho  alguna de las últimas cifras decimales en una unidad y vemos que, en muchos de los casos, esto no afectaría por\n",
    "errores de redondeo a las otras."
   ]
  },
  {
   "cell_type": "markdown",
   "metadata": {},
   "source": [
    "**_Ejercicio:_** Modifique cualquiera de estos códigos con el objeto de implementar el conocido algoritmo de regula-falsi, en el que se obtiene el punto $c$ no como el punto medio entre $a$ y $b$, sino como el punto de corte con el eje $Ox$ de la recta que une los puntos $(a,f(a))$ y $(b,f(b))$."
   ]
  },
  {
   "cell_type": "markdown",
   "metadata": {},
   "source": [
    "### Método de la secante"
   ]
  },
  {
   "cell_type": "markdown",
   "metadata": {},
   "source": [
    "A continuación tenemos la implementación del método de la secante. Es parecido al de regula-falsi, salvo que ahora se construye iterativamente\n",
    "una sucesión de valores $x_{k+1}=x_k-\\frac{x_k-x_{k-1}}{f\\left(x_k\\right)-f\\left(x_{k-1}\\right)}f\\left(x_k\\right)$ sin realizar\n",
    "la comprobación de cambio de signo. Ahora bien, lo mismo que ocurría al emplear el método de bisección en la sección anterior,\n",
    "debemos de idear algún criterio de parada cuando programamos cualquier método iterativo. Lo que haremos ahora, al no poder controlar de\n",
    "forma tan clara como en el método de bisección el error absoluto cometido,  es fijarnos en la diferencia entre dos iteraciones consecutivas,\n",
    "parando el proceso cuando ésta sea inferior a la tolerancia prefijada, **tol**; también fijaremos un número máximo de iteraciones\n",
    "a realizar, en caso de que dicha tolerancia sea dificil de alcanzar en un número de iteraciones razonable."
   ]
  },
  {
   "cell_type": "code",
   "execution_count": 52,
   "metadata": {},
   "outputs": [
    {
     "data": {
      "text/plain": [
       "(0.0, 2.0)"
      ]
     },
     "execution_count": 52,
     "metadata": {},
     "output_type": "execute_result"
    }
   ],
   "source": [
    "a,b"
   ]
  },
  {
   "cell_type": "code",
   "execution_count": 53,
   "metadata": {},
   "outputs": [
    {
     "name": "stdout",
     "output_type": "stream",
     "text": [
      "Posiblemente solución exacta:  1.192935686095882\n",
      "Solución exacta con  5  cifras significativas 1.0986\n",
      "Número total de iteraciones  100\n"
     ]
    }
   ],
   "source": [
    "x0 = a; x1 = b;\n",
    "niter = 0; getcontext().prec = mp\n",
    "for k in range(nmax):\n",
    "    niter = niter + 1;\n",
    "    c = x1 - (x1-x0)/(f(x1)-f(x0))*f(x0) \n",
    "    if abs(f(c)) < prec:\n",
    "        sale = 'precision'\n",
    "        break\n",
    "    else:\n",
    "        x1,x0 = c,x1\n",
    "    if abs(x1-x0) < tol:\n",
    "        sale = 'tolerancia'\n",
    "        break\n",
    "\n",
    "if sale == 'precision':\n",
    "    print('Posiblemente solución exacta: ',Decimal(c))\n",
    "elif k <= nmax:\n",
    "    print('Aproximación solicitada: ',Decimal(c))\n",
    "else:\n",
    "    print('Se llegó al número máximo de iteraciones')\n",
    "print('Solución exacta con ', cifras, ' cifras significativas', sol_exact.evalf(n=cifras))\n",
    "print('Número total de iteraciones ', niter)\n",
    "\n",
    "getcontext().prec = mporig # Se restaura la precisión por defecto"
   ]
  },
  {
   "cell_type": "code",
   "execution_count": 54,
   "metadata": {},
   "outputs": [
    {
     "name": "stdout",
     "output_type": "stream",
     "text": [
      "Posiblemente solución exacta:  1.192935697\n",
      "Solución exacta con  5  cifras significativas 1.0986\n",
      "Número total de iteraciones  100\n"
     ]
    }
   ],
   "source": [
    "x0 = Decimal(a); x1 = Decimal(b);\n",
    "niter = 0; getcontext().prec = mp\n",
    "for k in range(nmax):\n",
    "    niter = niter + 1;\n",
    "    c = x1 - (x1-x0)/(f(x1)-f(x0))*f(x0) \n",
    "    if abs(f(c)) < prec:\n",
    "        sale = 'precision'\n",
    "        break\n",
    "    else:\n",
    "        x1,x0 = c,x1\n",
    "    if abs(x1-x0) < tol:\n",
    "        sale = 'tolerancia'\n",
    "        break\n",
    "\n",
    "if sale == 'precision':\n",
    "    print('Posiblemente solución exacta: ',c)\n",
    "elif k <= nmax:\n",
    "    print('Aproximación solicitada: ',Decimal(c))\n",
    "else:\n",
    "    print('Se llegó al número máximo de iteraciones')\n",
    "print('Solución exacta con ', cifras, ' cifras significativas', sol_exact.evalf(n=cifras))\n",
    "print('Número total de iteraciones ', niter)\n",
    "\n",
    "getcontext().prec = mporig # Se restaura la precisión por defecto"
   ]
  },
  {
   "cell_type": "code",
   "execution_count": 55,
   "metadata": {},
   "outputs": [
    {
     "name": "stdout",
     "output_type": "stream",
     "text": [
      "Posiblemente solución exacta:  1.1921\n",
      "Solución exacta con  5  cifras significativas 1.0986\n",
      "Número total de iteraciones  100\n"
     ]
    }
   ],
   "source": [
    "x0 = Decimal(a); x1 = Decimal(b);\n",
    "niter = 0; getcontext().prec = cifras\n",
    "for k in range(nmax):\n",
    "    niter = niter + 1;\n",
    "    c = x1 - (x1-x0)/(f(x1)-f(x0))*f(x0) \n",
    "    if abs(f(c)) < prec:\n",
    "        sale = 'precision'\n",
    "        break\n",
    "    else:\n",
    "        x1,x0 = c,x1\n",
    "    if abs(x1-x0) < tol:\n",
    "        sale = 'tolerancia'\n",
    "        break\n",
    "\n",
    "if sale == 'precision':\n",
    "    print('Posiblemente solución exacta: ',c)\n",
    "elif k <= nmax:\n",
    "    print('Aproximación solicitada: ',Decimal(c))\n",
    "else:\n",
    "    print('Se llegó al número máximo de iteraciones')\n",
    "print('Solución exacta con ', cifras, ' cifras significativas', sol_exact.evalf(n=cifras))\n",
    "print('Número total de iteraciones ', niter)\n",
    "\n",
    "getcontext().prec = mporig # Se restaura la precisión por defecto"
   ]
  },
  {
   "cell_type": "markdown",
   "metadata": {},
   "source": [
    "### Métodos de Whittaker y Newton-Rapshon"
   ]
  },
  {
   "cell_type": "markdown",
   "metadata": {},
   "source": [
    "Vamos a implementar en esta sección el llamado método de Whittaker que, a partir de un valor inicial $x_0$, utiliza en principio rectas\n",
    "con pendiente fijada para calcular el punto de corte de éstas con el eje $Ox$ para aproximar la raíz buscada. No obstante, empleando\n",
    "el programa resultante y permitiendo variar dichas pendientes, ajustándose a las de la propia función $f$ ($m=f'\\left(x_k\\right)$, $k\\geq 0$, para que sean las de la recta tangente en\n",
    "el punto $\\left(x_k,f\\left(x_k\\right)\\right)$) obtendríamos el conocido método de  [Newton-Raphson](https://es.wikipedia.org/wiki/Método_de_Newton).\n",
    "\n",
    "También se verá que para que este método funcione correctamente será necesario que la derivada de la función no esté próxima a cero,\n",
    "al menos en cierto entorno de la raíz, ya que de lo contrario se podría producir una división entre cero o bien la creación\n",
    "de enormes errores de redondeo al dividir entre cantidades muy pequeñas."
   ]
  },
  {
   "cell_type": "markdown",
   "metadata": {},
   "source": [
    "Sigamos pues con el ejemplo que teníamos desde el principio de la práctica, e intentemos representar gráficamente todo este proceso, pero también vamos a necesitar evaluar la función derivada de la función de partida. Para ello también podemos aprovechar la potencia de cálculo simbólico de Python, a través del módulo SymPy, para ayudarnos a calcular la función derivada. No obstante, para poder realizar los cálculos y aproximaciones numéricas posteriores, convendrá definir ambas funciones, tanto la función $f$ como su derivada, empleando las versiones de NumPy de las correspondientes expresiones.  "
   ]
  },
  {
   "cell_type": "code",
   "execution_count": 56,
   "metadata": {},
   "outputs": [
    {
     "data": {
      "text/latex": [
       "$\\displaystyle x$"
      ],
      "text/plain": [
       "x"
      ]
     },
     "execution_count": 56,
     "metadata": {},
     "output_type": "execute_result"
    }
   ],
   "source": [
    "x"
   ]
  },
  {
   "cell_type": "code",
   "execution_count": 57,
   "metadata": {},
   "outputs": [],
   "source": [
    "def f(x):\n",
    "    ''' Versión simbólica de la función '''\n",
    "    return fsym(x)    "
   ]
  },
  {
   "cell_type": "code",
   "execution_count": 58,
   "metadata": {},
   "outputs": [
    {
     "data": {
      "text/plain": [
       "(exp(x) - 3, exp(x))"
      ]
     },
     "execution_count": 58,
     "metadata": {},
     "output_type": "execute_result"
    }
   ],
   "source": [
    "f(x),sp.diff(f(x),x)"
   ]
  },
  {
   "cell_type": "code",
   "execution_count": 59,
   "metadata": {},
   "outputs": [],
   "source": [
    "def df(x):\n",
    "    ''' función sp.exp(x)'''\n",
    "    return sp.exp(x)"
   ]
  },
  {
   "cell_type": "code",
   "execution_count": 60,
   "metadata": {},
   "outputs": [],
   "source": [
    "a = 0\n",
    "b = 2"
   ]
  },
  {
   "cell_type": "code",
   "execution_count": 61,
   "metadata": {},
   "outputs": [
    {
     "data": {
      "text/plain": [
       "(-2, 1)"
      ]
     },
     "execution_count": 61,
     "metadata": {},
     "output_type": "execute_result"
    }
   ],
   "source": [
    "f(a),df(a)"
   ]
  },
  {
   "cell_type": "code",
   "execution_count": 62,
   "metadata": {},
   "outputs": [],
   "source": [
    "x0 = a"
   ]
  },
  {
   "cell_type": "code",
   "execution_count": 63,
   "metadata": {},
   "outputs": [
    {
     "data": {
      "text/plain": [
       "(-2, 1)"
      ]
     },
     "execution_count": 63,
     "metadata": {},
     "output_type": "execute_result"
    }
   ],
   "source": [
    "f(x0), df(x0)"
   ]
  },
  {
   "cell_type": "code",
   "execution_count": 64,
   "metadata": {},
   "outputs": [],
   "source": [
    "?f"
   ]
  },
  {
   "cell_type": "code",
   "execution_count": 65,
   "metadata": {},
   "outputs": [
    {
     "data": {
      "text/plain": [
       "0"
      ]
     },
     "execution_count": 65,
     "metadata": {},
     "output_type": "execute_result"
    }
   ],
   "source": [
    "x0"
   ]
  },
  {
   "cell_type": "code",
   "execution_count": 66,
   "metadata": {},
   "outputs": [
    {
     "data": {
      "text/latex": [
       "$\\displaystyle 2$"
      ],
      "text/plain": [
       "2"
      ]
     },
     "execution_count": 66,
     "metadata": {},
     "output_type": "execute_result"
    }
   ],
   "source": [
    "x1 = x0 - f(x0)/df(x0)\n",
    "x1"
   ]
  },
  {
   "cell_type": "code",
   "execution_count": 67,
   "metadata": {},
   "outputs": [
    {
     "data": {
      "text/latex": [
       "$\\displaystyle \\frac{1}{5}$"
      ],
      "text/plain": [
       "1/5"
      ]
     },
     "execution_count": 67,
     "metadata": {},
     "output_type": "execute_result"
    }
   ],
   "source": [
    "m=10; x1 = x0 - f(x0)/m\n",
    "x1"
   ]
  },
  {
   "cell_type": "code",
   "execution_count": 68,
   "metadata": {},
   "outputs": [
    {
     "data": {
      "text/latex": [
       "$\\displaystyle \\text{False}$"
      ],
      "text/plain": [
       "False"
      ]
     },
     "execution_count": 68,
     "metadata": {},
     "output_type": "execute_result"
    }
   ],
   "source": [
    "abs(f(x1)) < prec"
   ]
  },
  {
   "cell_type": "code",
   "execution_count": 69,
   "metadata": {},
   "outputs": [
    {
     "data": {
      "text/plain": [
       "(1e-10, 1e-05)"
      ]
     },
     "execution_count": 69,
     "metadata": {},
     "output_type": "execute_result"
    }
   ],
   "source": [
    "prec,tol"
   ]
  },
  {
   "cell_type": "code",
   "execution_count": 70,
   "metadata": {},
   "outputs": [
    {
     "name": "stdout",
     "output_type": "stream",
     "text": [
      "sale el programa por  tolerancia\n",
      "Aproximación solicitada:  1.09863422052086\n",
      "Solución exacta con  5  cifras significativas 1.0986\n",
      "Número total de iteraciones  28\n"
     ]
    }
   ],
   "source": [
    "x0 = Decimal(b); niter = 0; m =10;\n",
    "getcontext().prec = cifras\n",
    "for k in range(nmax):\n",
    "    niter = niter + 1;\n",
    "    x1 = x0 - f(x0)/m  # método de Whitaker\n",
    "    # Cambiar m por Decimal(df(x0)) para el de Newton-Raphson\n",
    "    if abs(x1-x0) < tol:\n",
    "        sale = 'tolerancia'\n",
    "        break\n",
    "    if abs(f(x1)) < prec:\n",
    "        sale = 'precision'\n",
    "        break\n",
    "    else:\n",
    "        x0 = x1\n",
    "                \n",
    "print('sale el programa por ',sale)\n",
    "if sale == 'precision':\n",
    "    print('Posiblemente solución exacta: ',x1)\n",
    "elif k <= nmax:\n",
    "    print('Aproximación solicitada: ', x1)\n",
    "else:\n",
    "    print('Se llegó al número máximo de iteraciones')\n",
    "print('Solución exacta con ', cifras, ' cifras significativas', sol_exact.evalf(n=cifras))\n",
    "print('Número total de iteraciones ', niter)\n",
    "\n",
    "getcontext().prec = mporig # Se restaura la precisión por defecto"
   ]
  },
  {
   "cell_type": "markdown",
   "metadata": {},
   "source": [
    "Vemos que de esta manera, y repitiendo el mismo proceso, se llega iterativamente a construir una sucesión que, si se dan ciertas condiciones apropiadas, va a converger hacia la verdadera raíz de nuestra ecuación. Para ello habrá que elegir convenientemente tanto el valor de la pendiente $m$ como el del valor inicial $x_0$, ya que basta probar con ciertos valores para darnos cuenta cómo nos aproximamos más y más a la raíz, o por el contrario ocurre todo lo contrario. Animamos al lector a realizar algunos cambios en el valor de $m$ y de $x_0$ en la gráfica anterior y comprobarlo por sí mismo."
   ]
  },
  {
   "cell_type": "code",
   "execution_count": 71,
   "metadata": {},
   "outputs": [
    {
     "data": {
      "text/plain": [
       "28"
      ]
     },
     "execution_count": 71,
     "metadata": {},
     "output_type": "execute_result"
    }
   ],
   "source": [
    "getcontext().prec"
   ]
  },
  {
   "cell_type": "markdown",
   "metadata": {},
   "source": [
    "Vemos que, por defecto, aunque normalmente los cálculos se efectuan con una precisión mucho mayor, en este caso sólo se nos presentan\n",
    "algunas de ellas. "
   ]
  },
  {
   "cell_type": "markdown",
   "metadata": {},
   "source": [
    "### Métodos de iteración funcional: casos particulares de los métodos de Newton-Raphson y Steffensen"
   ]
  },
  {
   "cell_type": "markdown",
   "metadata": {},
   "source": [
    "En los métodos de iteración funcional lo que se pretende es encontrar un [punto fijo](https://es.wikipedia.org/wiki/Método_del_punto_fijo) de la aplicación  $g:I\\to I$ para\n",
    "cierto subconjunto cerrado de la recta real (no necesariamente acotado) mediante una sucesión de valores $x_{k+1}=g\\left(x_k\\right), k\\geq 0$. En el caso del método de Newton-Raphson, bastará con tomar  $g(x)=x-\\frac{f(x)}{f'(x)}$, obteniéndose una convergencia al menos cuadrática.  Lo mismo ocurre con el denominado método de Steffensen, en el que se tomaría $g(x)=x-\\frac{f(x)^2}{f(x+f(x))-f(x)}$,\n",
    "y que no debe confundirse con el método de aceleración de la convergencia del mismo nombre, que se presentará más adelante."
   ]
  },
  {
   "cell_type": "code",
   "execution_count": 72,
   "metadata": {},
   "outputs": [],
   "source": [
    "?f"
   ]
  },
  {
   "cell_type": "code",
   "execution_count": 73,
   "metadata": {},
   "outputs": [],
   "source": [
    "?df"
   ]
  },
  {
   "cell_type": "code",
   "execution_count": 74,
   "metadata": {},
   "outputs": [],
   "source": [
    "x = sp.Symbol('x')"
   ]
  },
  {
   "cell_type": "code",
   "execution_count": 75,
   "metadata": {},
   "outputs": [],
   "source": [
    "def f(x):\n",
    "    ''' función sp.exp(x)-3'''\n",
    "    return sp.E**x-3"
   ]
  },
  {
   "cell_type": "code",
   "execution_count": 76,
   "metadata": {},
   "outputs": [
    {
     "data": {
      "text/latex": [
       "$\\displaystyle e^{x}$"
      ],
      "text/plain": [
       "exp(x)"
      ]
     },
     "execution_count": 76,
     "metadata": {},
     "output_type": "execute_result"
    }
   ],
   "source": [
    "sp.diff(f(x),x)"
   ]
  },
  {
   "cell_type": "code",
   "execution_count": 77,
   "metadata": {},
   "outputs": [],
   "source": [
    "def df(x):\n",
    "    ''' función sp.exp(x)'''\n",
    "    return sp.E**x    "
   ]
  },
  {
   "cell_type": "code",
   "execution_count": 78,
   "metadata": {},
   "outputs": [
    {
     "data": {
      "text/latex": [
       "$\\displaystyle x - \\left(e^{x} - 3\\right) e^{- x}$"
      ],
      "text/plain": [
       "x - (exp(x) - 3)*exp(-x)"
      ]
     },
     "execution_count": 78,
     "metadata": {},
     "output_type": "execute_result"
    }
   ],
   "source": [
    "x - f(x)/df(x)"
   ]
  },
  {
   "cell_type": "code",
   "execution_count": 79,
   "metadata": {},
   "outputs": [],
   "source": [
    "def gNR(x):\n",
    "    '''función de punto fijo asociada al método de N-R para f(x)'''\n",
    "    return x - f(x)/df(x)"
   ]
  },
  {
   "cell_type": "code",
   "execution_count": 80,
   "metadata": {},
   "outputs": [],
   "source": [
    "def gSteff(x):\n",
    "    '''función de punto fijo asociada al método de Steffensen para f(x)'''\n",
    "    return x - f(x)**2/(f(x+f(x)-f(x)))"
   ]
  },
  {
   "cell_type": "code",
   "execution_count": 81,
   "metadata": {},
   "outputs": [],
   "source": [
    "?gNR"
   ]
  },
  {
   "cell_type": "code",
   "execution_count": 82,
   "metadata": {},
   "outputs": [],
   "source": [
    "?gSteff"
   ]
  },
  {
   "cell_type": "code",
   "execution_count": 83,
   "metadata": {},
   "outputs": [
    {
     "data": {
      "text/plain": [
       "(x - (exp(x) - 3)*exp(-x), x - exp(x) + 3)"
      ]
     },
     "execution_count": 83,
     "metadata": {},
     "output_type": "execute_result"
    }
   ],
   "source": [
    "gNR(x),gSteff(x)"
   ]
  },
  {
   "cell_type": "code",
   "execution_count": 84,
   "metadata": {},
   "outputs": [
    {
     "data": {
      "image/png": "[encoded data removed]",
      "text/plain": [
       "<Figure size 432x288 with 1 Axes>"
      ]
     },
     "metadata": {
      "needs_background": "light"
     },
     "output_type": "display_data"
    }
   ],
   "source": [
    "sp.plot(gNR(x),gSteff(x),x,(x,a,b));"
   ]
  },
  {
   "cell_type": "code",
   "execution_count": 85,
   "metadata": {},
   "outputs": [],
   "source": [
    "yyNR = [gNR(x) for x in xx]"
   ]
  },
  {
   "cell_type": "code",
   "execution_count": 86,
   "metadata": {},
   "outputs": [],
   "source": [
    "yySteff = [gSteff(x) for x in xx]"
   ]
  },
  {
   "cell_type": "code",
   "execution_count": 87,
   "metadata": {},
   "outputs": [
    {
     "data": {
      "image/png": "[encoded data removed]",
      "text/plain": [
       "<Figure size 432x288 with 1 Axes>"
      ]
     },
     "metadata": {
      "needs_background": "light"
     },
     "output_type": "display_data"
    }
   ],
   "source": [
    "fig, ax = plt.subplots();\n",
    "ax.plot(xx,yyNR, label = \"y = gNR(x)\");\n",
    "ax.plot(xx,yySteff, label = \"y = gSteff(x)\");\n",
    "ax.plot(xx,xx, label = \"y = x\");\n",
    "ax.legend(loc=3);\n",
    "ax.set_xlabel('x')\n",
    "ax.set_ylabel('y')\n",
    "ax.set_title('Punto fijo de las funciones gNR(x) y gSteff(x)');"
   ]
  },
  {
   "cell_type": "code",
   "execution_count": 88,
   "metadata": {},
   "outputs": [
    {
     "data": {
      "text/plain": [
       "(2, -(-3 + E)*exp(-1) + 1, 1.40600584970984)"
      ]
     },
     "execution_count": 88,
     "metadata": {},
     "output_type": "execute_result"
    }
   ],
   "source": [
    "gNR(0),gNR(1),gNR(2.)"
   ]
  },
  {
   "cell_type": "code",
   "execution_count": 89,
   "metadata": {},
   "outputs": [
    {
     "data": {
      "text/plain": [
       "(2, 4 - E, 5 - exp(2))"
      ]
     },
     "execution_count": 89,
     "metadata": {},
     "output_type": "execute_result"
    }
   ],
   "source": [
    "gSteff(0),gSteff(1),gSteff(2)"
   ]
  },
  {
   "cell_type": "code",
   "execution_count": 90,
   "metadata": {},
   "outputs": [
    {
     "data": {
      "text/plain": [
       "(0, [2.00000000000000, 1.40600584970984])"
      ]
     },
     "execution_count": 90,
     "metadata": {},
     "output_type": "execute_result"
    }
   ],
   "source": [
    "x0 = sp.N(b); aproxNR = [x0]; niter = 1;\n",
    "x1 = gNR(x0)\n",
    "aproxNR.append(x1)\n",
    "niter, aproxNR      # Esta sería la iteración inicial para aplicar el método de Newton-Raphson"
   ]
  },
  {
   "cell_type": "code",
   "execution_count": 91,
   "metadata": {},
   "outputs": [
    {
     "data": {
      "text/plain": [
       "(1, [2.00000000000000, 1.40600584970984, 1.40600584970984])"
      ]
     },
     "execution_count": 91,
     "metadata": {},
     "output_type": "execute_result"
    }
   ],
   "source": [
    "x1 = gNR(x0); x0 = x1; niter = niter + 1;\n",
    "aproxNR.append(x1)\n",
    "niter, aproxNR\n",
    "# Ahora bastará con que vuelvas a ejecutar esta misma celdilla varias veces seguidas para ir obteniendo manualmente\n",
    "# las sucesivas iteraciones que proporciona el método de"
   ]
  },
  {
   "cell_type": "code",
   "execution_count": 92,
   "metadata": {},
   "outputs": [
    {
     "name": "stdout",
     "output_type": "stream",
     "text": [
      "[2.00000000000000, 1.40600584970984, 1.14136698416535, 1.09951338303279, 1.09861269453172, 1.09861228866819, 1.09861228866811, 1.09861228866811, 1.09861228866811, 1.09861228866811, 1.09861228866811]\n"
     ]
    }
   ],
   "source": [
    "# Aquí ya estaría ya todo integrado en un bucle 'for'\n",
    "x0 = sp.N(b); aproxNR = [x0]; niter = 10;\n",
    "for k in range(niter):\n",
    "    x1 = gNR(x0); x0 = x1\n",
    "    aproxNR.append(x1)\n",
    "print(aproxNR)"
   ]
  },
  {
   "cell_type": "code",
   "execution_count": 93,
   "metadata": {},
   "outputs": [],
   "source": [
    "tol = 10**(-10)"
   ]
  },
  {
   "cell_type": "code",
   "execution_count": 94,
   "metadata": {},
   "outputs": [
    {
     "name": "stdout",
     "output_type": "stream",
     "text": [
      "[2.00000000000000, 1.40600584970984, 1.14136698416535, 1.09951338303279, 1.09861269453172, 1.09861228866819, 1.09861228866811]\n"
     ]
    }
   ],
   "source": [
    "x0 = sp.N(b); maxiter = 100;\n",
    "aproxNR = [x0]; niter = 0;\n",
    "for k in range(maxiter):\n",
    "    x1 = gNR(x0);\n",
    "    aproxNR.append(x1); niter = niter + 1\n",
    "    if abs(x1-x0) < tol: break\n",
    "    x0 = x1\n",
    "print(aproxNR)"
   ]
  },
  {
   "cell_type": "code",
   "execution_count": 95,
   "metadata": {},
   "outputs": [
    {
     "name": "stdout",
     "output_type": "stream",
     "text": [
      "[2.00000000000000, -2.38905609893065, 0.519227687003705, 1.83849858761062, -1.44859306626184, 1.31650638852161, 0.586140252903156, 1.78910135623438, -1.19497114372904, 1.50231616705546, 0.0102347255519215, 1.99994744605773, -2.38872033904910, 0.519532647089708, 1.83829091424353, -1.44749521370212, 1.31734621330417, 0.583845907864461, 1.79092531226422, -1.20407183282598, 1.49595787425308, 0.0323477913099821, 1.99947112293584, -2.38567810691607, 0.522295338510792, 1.83640243163154, -1.43752430016507, 1.32496065246445, 0.562923327274210, 1.80712555052955, -1.28578292880845, 1.43778300050321, 0.226434099127028, 1.97231413961660, -2.21497551044342, 0.675868302154225, 1.71012921151605, -0.819546717759340, 1.73982194263401, -0.956507116385152, 1.65926025893849, -0.596161495958475, 1.85291620395976, -1.52547691855716, 1.25700578735289, 0.742124374105166, 1.64173157568473, -0.522372235703251, 1.88451588768591, -1.69865079071889, 1.11841904057200, 1.05840641924637, 1.17663143221176, 0.933201366050769, 1.39056529515708, 0.373445025260661, 1.92071432740389, -1.90511828010028, 0.946076678993685, 1.37049171449954, 0.433205474202589, 1.89101240516405, -1.73506115236758, 1.08854943430614, 1.11858661404357, 1.05806117281363, 1.17728093658629, 0.931743564130596, 1.39281145250792, 0.366657957163079, 1.92375365754264, -1.92285646760095, 0.930954750762239, 1.39402459304276, 0.362983843829739, 1.92537121109062, -1.93232263439140, 0.922865902115114, 1.40637381679504, 0.325244200661146, 1.94087553221062, -2.02397071696413, 0.843899510881717, 1.51848220140161, -0.0468085406307028, 1.99892137531957, -2.38216900212189, 0.525480945218741, 1.83420888319911, -1.42597076940400, 1.33375413235503, 0.538489530010167, 1.82507268812659, -1.37817321691464, 1.36978823054852, 0.435270833899462, 1.88988928991093, -1.72874660080029, 1.09374664177630, 1.10830812819814, 1.07907913879533]\n"
     ]
    }
   ],
   "source": [
    "x0 = sp.N(b); maxiter = 100;\n",
    "aproxSteff = [x0]; niter = 0;\n",
    "for k in range(maxiter):\n",
    "    x1 = gSteff(x0);\n",
    "    aproxSteff.append(x1); niter = niter + 1\n",
    "    if abs(x1-x0) < tol: break\n",
    "    x0 = x1\n",
    "print(aproxSteff)"
   ]
  },
  {
   "cell_type": "code",
   "execution_count": 96,
   "metadata": {},
   "outputs": [
    {
     "data": {
      "text/latex": [
       "$\\displaystyle 5 - e^{2}$"
      ],
      "text/plain": [
       "5 - exp(2)"
      ]
     },
     "execution_count": 96,
     "metadata": {},
     "output_type": "execute_result"
    }
   ],
   "source": [
    "x0 = b; aproxSteff = [x0]\n",
    "x1 = gSteff(x0)\n",
    "x1"
   ]
  },
  {
   "cell_type": "code",
   "execution_count": 97,
   "metadata": {},
   "outputs": [
    {
     "data": {
      "text/plain": [
       "(0, [2.00000000000000])"
      ]
     },
     "execution_count": 97,
     "metadata": {},
     "output_type": "execute_result"
    }
   ],
   "source": [
    "x0 = sp.N(b); aproxSteff = [x0]; niter = 0;\n",
    "niter, aproxSteff          # Esta sería la iteración inicial para aplicar el método de Steffensen"
   ]
  },
  {
   "cell_type": "code",
   "execution_count": 98,
   "metadata": {},
   "outputs": [
    {
     "data": {
      "text/plain": [
       "(1, [2.00000000000000, -2.38905609893065])"
      ]
     },
     "execution_count": 98,
     "metadata": {},
     "output_type": "execute_result"
    }
   ],
   "source": [
    "x1 = gSteff(x0); x0 = x1; niter = niter +1\n",
    "aproxSteff.append(x1)\n",
    "niter, aproxSteff\n",
    "# Ahora bastará con que vuelvas a ejecutar esta misma celdilla varias veces seguidas para ir obteniendo manualmente\n",
    "# las sucesivas iteraciones que proporciona el método de Steffensen"
   ]
  },
  {
   "cell_type": "markdown",
   "metadata": {},
   "source": [
    "### Aceleración de la convergencia: métodos de Aitken y Steffensen"
   ]
  },
  {
   "cell_type": "markdown",
   "metadata": {},
   "source": [
    "En el conocido método de Aitken se calcula una nueva sucesión de valores, $\\left\\{\\hat{x_k}\\right\\}$, a partir de la original, $\\left\\{x_k\\right\\}$, mediante la fórmula siguiente:\\\\\n",
    "$\\quad \\quad $$\\hat{x_k}=x_k-\\frac{\\left(x_{k+1}-x_k\\right){}^2}{x_{k+2}-2x_{k+1}+x_k}$\n",
    "\n",
    "Veamos un ejemplo de aplicación de este método de aceleración, utilizando las iteraciones obtenidas previamente mediante el método\n",
    " equivalente al de Newton-Raphson."
   ]
  },
  {
   "cell_type": "code",
   "execution_count": 99,
   "metadata": {},
   "outputs": [
    {
     "name": "stdout",
     "output_type": "stream",
     "text": [
      "[2.00000000000000, 1.40600584970984, 1.14136698416535, 1.09951338303279, 1.09861269453172, 1.09861228866819, 1.09861228866811]\n"
     ]
    },
    {
     "data": {
      "text/plain": [
       "7"
      ]
     },
     "execution_count": 99,
     "metadata": {},
     "output_type": "execute_result"
    }
   ],
   "source": [
    "aprox = aproxNR; print(aprox)\n",
    "n = len(aprox)\n",
    "n"
   ]
  },
  {
   "cell_type": "code",
   "execution_count": 100,
   "metadata": {},
   "outputs": [
    {
     "data": {
      "text/latex": [
       "$\\displaystyle 2.0$"
      ],
      "text/plain": [
       "2.00000000000000"
      ]
     },
     "execution_count": 100,
     "metadata": {},
     "output_type": "execute_result"
    }
   ],
   "source": [
    "aprox[0]"
   ]
  },
  {
   "cell_type": "code",
   "execution_count": 101,
   "metadata": {},
   "outputs": [
    {
     "data": {
      "text/latex": [
       "$\\displaystyle 2.0$"
      ],
      "text/plain": [
       "2.00000000000000"
      ]
     },
     "execution_count": 101,
     "metadata": {},
     "output_type": "execute_result"
    }
   ],
   "source": [
    "k=0; aprox[k]\n",
    "# aprox(k)-(aprox(k+1)-aprox(k))**2/(aprox(k+2)-2*aprox(k+1)+aprox(k))"
   ]
  },
  {
   "cell_type": "code",
   "execution_count": 102,
   "metadata": {},
   "outputs": [
    {
     "data": {
      "text/plain": [
       "[0.928728133658494,\n",
       " 1.09165054734486,\n",
       " 1.09859288544553,\n",
       " 1.09861228848522,\n",
       " 1.09861228866811]"
      ]
     },
     "execution_count": 102,
     "metadata": {},
     "output_type": "execute_result"
    }
   ],
   "source": [
    "k = 0; acelAitken = []; \n",
    "for k in range(n-2):\n",
    "    aproxacel = aprox[k]-(aprox[k+1]-aprox[k])**2/(aprox[k+2]-2*aprox[k+1]+aprox[k])\n",
    "    acelAitken.append(aproxacel); \n",
    "acelAitken"
   ]
  },
  {
   "cell_type": "markdown",
   "metadata": {},
   "source": [
    "Nótese la ligera mejora obtenida en muy pocas iteraciones. El hecho es que estos métodos de aceleración de la convergencia están\n",
    "especialmente indicados para mejorar las iteraciones obtenidas por un método con convergencia lineal, en contra del caso del método de\n",
    "Newton-Raphson para raíces simples, que sabemos que tiene convergencia cuadrática (recordemos que el método iterativo que estamos\n",
    "empleando en este momento es el correspondiente a la aplicación del método de Newton-Raphson para funciones derivables)."
   ]
  },
  {
   "cell_type": "markdown",
   "metadata": {},
   "source": [
    "En cuanto al método de aceleración de Steffensen, recuerde que se obtiene una nueva sucesión de valores, de tres en tres $\\left\\{\\hat{x_0}{}^{(k)},\\hat{x_1}{}^{(k)},\\hat{x_2}{}^{(k)}\\right\\}$,\n",
    "a partir de los tres primeros de la original, $\\left\\{x_0,x_1,x_2\\right\\}$, de la siguiente manera:\\\\\n",
    "$\\quad \\quad $$\\hat{x_0}{}^{(k+1)}=\\hat{x_0}{}^{(k)}-\\frac{\\left(\\hat{x_1}{}^{(k)}-\\hat{x_0}{}^{(k)}\\right){}^2}{\\hat{x_2}{}^{(k)}-2\\hat{x_1}{}^{(k)}+\\hat{x_0}{}^{(k)}}$,\n",
    " $\\hat{x_1}{}^{(k)}=g\\left(\\hat{x_0}{}^{(k)}\\right)$,  $\\hat{x_2}{}^{(k)}=g\\left(\\hat{x_1}{}^{(k)}\\right)$, \\\\\n",
    "siendo  $\\left\\{\\hat{x_0}{}^{(0)},\\hat{x_1}{}^{(0)},\\hat{x_2}{}^{(0)}\\right\\}$=$\\left\\{x_0,g\\left(x_0\\right),g\\left(x_1\\right)\\text{}\\right\\}$."
   ]
  },
  {
   "cell_type": "code",
   "execution_count": 103,
   "metadata": {},
   "outputs": [],
   "source": [
    "def g(x):\n",
    "    return gNR(x)"
   ]
  },
  {
   "cell_type": "code",
   "execution_count": 104,
   "metadata": {},
   "outputs": [
    {
     "data": {
      "text/plain": [
       "[0.928728133658494,\n",
       " 1.11389568130288,\n",
       " 1.09872848699195,\n",
       " 1.09165054734486,\n",
       " 1.09863657792169,\n",
       " 1.09861228896309,\n",
       " 1.09859288544553,\n",
       " 1.09861228885635,\n",
       " 1.09861228866811,\n",
       " 1.09861228848522,\n",
       " 1.09861228866811,\n",
       " 1.09861228866811,\n",
       " 1.09861228866811,\n",
       " 1.09861228866811,\n",
       " 1.09861228866811]"
      ]
     },
     "execution_count": 104,
     "metadata": {},
     "output_type": "execute_result"
    }
   ],
   "source": [
    "k = 0; acelSteff = []; \n",
    "for k in range(n-2):\n",
    "    aproxSteff0 = aprox[k]-(aprox[k+1]-aprox[k])**2/(aprox[k+2]-2*aprox[k+1]+aprox[k])\n",
    "    aproxSteff1 = g(aproxSteff0); aproxSteff2 = g(aproxSteff1);\n",
    "    acelSteff.append(aproxSteff0); \n",
    "    acelSteff.append(aproxSteff1);\n",
    "    acelSteff.append(aproxSteff2);\n",
    "acelSteff"
   ]
  },
  {
   "cell_type": "markdown",
   "metadata": {},
   "source": [
    "Como vemos, se obtienen resultados bastante aceptables, con muy pocas iteraciones."
   ]
  },
  {
   "cell_type": "markdown",
   "metadata": {},
   "source": [
    "### Órdenes directas de Python"
   ]
  },
  {
   "cell_type": "markdown",
   "metadata": {},
   "source": [
    "### Resolución de ecuaciones en general"
   ]
  },
  {
   "cell_type": "markdown",
   "metadata": {},
   "source": [
    "Aparte de todo esto *Python* también incorpora varias funciones y órdenes directas, o incluidas en alguno de los módulos más habituales, para aproximar los ceros de una función, ya sea de manera simbólica o bien mediante algoritmos de tipo bisección o Newton-Raphson, sin necesidad de acudir al código ya implementado anteriormente."
   ]
  },
  {
   "cell_type": "markdown",
   "metadata": {},
   "source": [
    "Entre éstas podemos indicar por ejemplo la orden `fsolve` del paquete `optimize` dentro del módulo `SciPy`.\n",
    "\n",
    "Por ello, deberemos cargarlo mediante una orden como la siguiente:\n",
    "\n",
    "    from scipy.optimize import fsolve\n",
    "    \n",
    "y habría que usarlo con el siguiente formato\n",
    "\n",
    "    fsolve(f,x0)\n",
    "    \n",
    "donde la función f debe estar ya definida previamente y x0 es el valor inicial para comenzar las iteraciones.\n",
    " \n",
    "En cuanto a las opciones disponibles, lo mejor es mirar la documentación disponible, preguntándole directamente al sistema Python para que nos muestre el docstring incluido en la definición de dicha orden\n",
    "\n",
    "    ?fsolve"
   ]
  },
  {
   "cell_type": "code",
   "execution_count": 105,
   "metadata": {},
   "outputs": [],
   "source": [
    "from scipy.optimize import fsolve"
   ]
  },
  {
   "cell_type": "code",
   "execution_count": 174,
   "metadata": {},
   "outputs": [],
   "source": [
    "?fsolve"
   ]
  },
  {
   "cell_type": "code",
   "execution_count": 107,
   "metadata": {},
   "outputs": [
    {
     "data": {
      "text/plain": [
       "array([1.09861229])"
      ]
     },
     "execution_count": 107,
     "metadata": {},
     "output_type": "execute_result"
    }
   ],
   "source": [
    "fsolve(f, 1.0)"
   ]
  },
  {
   "cell_type": "markdown",
   "metadata": {},
   "source": [
    "Sin embargo, si lo que queremos es intentar obtener las soluciones exactas de cierto tipo de ecuaciones tendremos que hacerlo de manera simbólica, usando la orden `solve` perteneciente al módulo `SymPy`. También existe su versión numérica `nsolve`, que intenta aproximar la más cercana al valor de la variable que introduzcamos.\n",
    "\n",
    "Ambas deberemos cargarlas de la siguiente forma\n",
    "\n",
    "    from sympy.solvers import solve, nsolve\n",
    "\n",
    "aparte de poder definir las variables simbólicas que necesitemos\n",
    "\n",
    "    from sympy import Symbol\n",
    "    x = Symbol('x')\n",
    "    \n",
    "Veámos algunos ejemplos a continuación, pero convendría consultar parte de la documentación online al respecto para poder revisar todas las opciones de la orden [solve](http://docs.sympy.org/0.7.1/modules/solvers/solvers.html), aunque progresivamente ésta se está sustituyendo cada vez más por su versión [solveset](https://github.com/scipy-lectures/scipy-lecture-notes/issues/308), que también admite inecuaciones del tipo: `solveset(exp(x) > 1, x, R)`\n",
    "\n",
    "Otra versión más numérica de esta orden sería [nsolve](http://nullege.com/codes/search/sympy.solvers.nsolve?fulldoc=1).\n",
    "\n",
    "También podemos consultar la documentación incluida en el docstring de cada una de estas órdenes preguntándole directamente a Python, sin más que anteponer el signo de interrogación, como ya sabemos."
   ]
  },
  {
   "cell_type": "code",
   "execution_count": 108,
   "metadata": {},
   "outputs": [],
   "source": [
    "from sympy.solvers import solve, nsolve, solveset\n",
    "import sympy as sp"
   ]
  },
  {
   "cell_type": "code",
   "execution_count": 175,
   "metadata": {},
   "outputs": [],
   "source": [
    "?solve"
   ]
  },
  {
   "cell_type": "code",
   "execution_count": 176,
   "metadata": {},
   "outputs": [],
   "source": [
    "?nsolve"
   ]
  },
  {
   "cell_type": "code",
   "execution_count": 177,
   "metadata": {},
   "outputs": [],
   "source": [
    "?solveset"
   ]
  },
  {
   "cell_type": "code",
   "execution_count": 112,
   "metadata": {},
   "outputs": [],
   "source": [
    "from sympy import Symbol\n",
    "x = Symbol('x')"
   ]
  },
  {
   "cell_type": "code",
   "execution_count": 113,
   "metadata": {},
   "outputs": [
    {
     "data": {
      "text/plain": [
       "[-1, 1]"
      ]
     },
     "execution_count": 113,
     "metadata": {},
     "output_type": "execute_result"
    }
   ],
   "source": [
    "solve( x**2 - 1, x )  # he aquí un simple ejemplo de uso"
   ]
  },
  {
   "cell_type": "code",
   "execution_count": 114,
   "metadata": {},
   "outputs": [
    {
     "data": {
      "text/latex": [
       "$\\displaystyle \\left\\{-1, 1\\right\\}$"
      ],
      "text/plain": [
       "{-1, 1}"
      ]
     },
     "execution_count": 114,
     "metadata": {},
     "output_type": "execute_result"
    }
   ],
   "source": [
    "solveset( x**2 - 1, x )  # he aquí un simple ejemplo de uso"
   ]
  },
  {
   "cell_type": "code",
   "execution_count": 115,
   "metadata": {},
   "outputs": [
    {
     "data": {
      "text/latex": [
       "$\\displaystyle \\left(0, \\infty\\right)$"
      ],
      "text/plain": [
       "Interval.open(0, oo)"
      ]
     },
     "execution_count": 115,
     "metadata": {},
     "output_type": "execute_result"
    }
   ],
   "source": [
    "solveset(sp.exp(x) > 1, x, domain=sp.Reals)"
   ]
  },
  {
   "cell_type": "code",
   "execution_count": 116,
   "metadata": {},
   "outputs": [
    {
     "data": {
      "text/plain": [
       "[0, pi/2, pi, 3*pi/2]"
      ]
     },
     "execution_count": 116,
     "metadata": {},
     "output_type": "execute_result"
    }
   ],
   "source": [
    "solve(sp.sin(x)*sp.cos(x),x)  # ejemplo con funciones trigonométricas\n",
    "# aunque en estos casos es evidente que no se pueden obtener a la vez\n",
    "# las infinitas soluciones"
   ]
  },
  {
   "cell_type": "code",
   "execution_count": 117,
   "metadata": {},
   "outputs": [
    {
     "data": {
      "text/latex": [
       "$\\displaystyle 1.5707963267949$"
      ],
      "text/plain": [
       "1.57079632679490"
      ]
     },
     "execution_count": 117,
     "metadata": {},
     "output_type": "execute_result"
    }
   ],
   "source": [
    "nsolve(sp.sin(x)*sp.cos(x), x, 1 ) # sin embargo con nsolve podemos ir\n",
    "# aproximando numéricamente las más cercanas al valor de x introducido"
   ]
  },
  {
   "cell_type": "code",
   "execution_count": 118,
   "metadata": {},
   "outputs": [
    {
     "data": {
      "text/latex": [
       "$\\displaystyle 3.14159265358979$"
      ],
      "text/plain": [
       "3.14159265358979"
      ]
     },
     "execution_count": 118,
     "metadata": {},
     "output_type": "execute_result"
    }
   ],
   "source": [
    "nsolve(sp.sin(x)*sp.cos(x), 3 ) # sin embargo con nsolve podemos ir\n",
    "# aproximando numéricamente las más cercanas al valor de x introducido"
   ]
  },
  {
   "cell_type": "code",
   "execution_count": 119,
   "metadata": {},
   "outputs": [],
   "source": [
    "a = sp.Symbol('a')"
   ]
  },
  {
   "cell_type": "code",
   "execution_count": 120,
   "metadata": {},
   "outputs": [
    {
     "data": {
      "text/plain": [
       "[log(3*a**3*exp(-1))]"
      ]
     },
     "execution_count": 120,
     "metadata": {},
     "output_type": "execute_result"
    }
   ],
   "source": [
    "solve(1/a*sp.exp(x+1)-3*a**2,x)"
   ]
  },
  {
   "cell_type": "markdown",
   "metadata": {},
   "source": [
    "Veamos algunos ejemplos más:"
   ]
  },
  {
   "cell_type": "code",
   "execution_count": 121,
   "metadata": {},
   "outputs": [],
   "source": [
    "# solve((1-sp.sqrt(x))/x**2 - sp.sqrt(x-1),x) \n",
    "# Se ha dejado comentada la linea anterior para no interrumpir el flujo de ejecución del notebook"
   ]
  },
  {
   "cell_type": "code",
   "execution_count": 122,
   "metadata": {},
   "outputs": [],
   "source": [
    "# solveset((1-sp.sqrt(x))/x**2 - sp.sqrt(x-1),x)\n",
    "# Se ha dejado comentada la linea anterior para no interrumpir el flujo de ejecución del notebook"
   ]
  },
  {
   "cell_type": "markdown",
   "metadata": {},
   "source": [
    "Aquí vemos como no es capaz de calcular todas las soluciones de la ecuación; sino que muchas de ellas las deja indicadas, resultando ser los ceros del siguiente polinomio  $ -1+x-2x^4-2x^5-x^8+x^9$ que veremos en la siguiente sección cómo se pueden calcular mediante\n",
    "una sentencia propia para estos casos."
   ]
  },
  {
   "cell_type": "code",
   "execution_count": 123,
   "metadata": {},
   "outputs": [
    {
     "data": {
      "text/latex": [
       "$\\displaystyle 1.0$"
      ],
      "text/plain": [
       "1.00000000000000"
      ]
     },
     "execution_count": 123,
     "metadata": {},
     "output_type": "execute_result"
    }
   ],
   "source": [
    "nsolve((1-sp.sqrt(x))/x**2 - sp.sqrt(x-1),x,1)"
   ]
  },
  {
   "cell_type": "code",
   "execution_count": 124,
   "metadata": {},
   "outputs": [
    {
     "data": {
      "text/latex": [
       "$\\displaystyle -0.346456825757401 - 0.785428138804099 i$"
      ],
      "text/plain": [
       "-0.346456825757401 - 0.785428138804099*I"
      ]
     },
     "execution_count": 124,
     "metadata": {},
     "output_type": "execute_result"
    }
   ],
   "source": [
    "nsolve((1-sp.sqrt(x))/x**2 - sp.sqrt(x-1),x,2)"
   ]
  },
  {
   "cell_type": "markdown",
   "metadata": {},
   "source": [
    "### Resolución de ecuaciones polinómicas con Python"
   ]
  },
  {
   "cell_type": "markdown",
   "metadata": {},
   "source": [
    "La orden de NumPy  `roots` obtiene todas las raíces reales y complejas de la ecuación polinómica $a_nx^n+...+a_2x^2+a_1x+a_0=0$ correspondiente a los coeficientes $[a_n, ..., a_2,a_1, a_0]$ guardados en una lista con las mismas tal y como se observa  en el siguiente ejemplo:"
   ]
  },
  {
   "cell_type": "code",
   "execution_count": 125,
   "metadata": {},
   "outputs": [
    {
     "data": {
      "text/plain": [
       "array([-0.15625+0.7749748j, -0.15625-0.7749748j])"
      ]
     },
     "execution_count": 125,
     "metadata": {},
     "output_type": "execute_result"
    }
   ],
   "source": [
    "coefs = [3.2,1,2]\n",
    "np.roots(coefs)"
   ]
  },
  {
   "cell_type": "code",
   "execution_count": 126,
   "metadata": {},
   "outputs": [
    {
     "data": {
      "text/plain": [
       "array([-1.27308945+0.36784131j, -1.27308945-0.36784131j,\n",
       "       -0.08811871+1.23334263j, -0.08811871-1.23334263j,\n",
       "        1.18028373+0.j        ,  0.27106629+0.49202862j,\n",
       "        0.27106629-0.49202862j])"
      ]
     },
     "execution_count": 126,
     "metadata": {},
     "output_type": "execute_result"
    }
   ],
   "source": [
    "coefs = [1,1,0,0,-2,-2,1,-1]\n",
    "np.roots(coefs)"
   ]
  },
  {
   "cell_type": "markdown",
   "metadata": {},
   "source": [
    "Observe ahora la salida de las dos órdenes siguientes:"
   ]
  },
  {
   "cell_type": "code",
   "execution_count": 127,
   "metadata": {},
   "outputs": [
    {
     "data": {
      "text/plain": [
       "[2.50000000000000, -3.0*I, 3.0*I]"
      ]
     },
     "execution_count": 127,
     "metadata": {},
     "output_type": "execute_result"
    }
   ],
   "source": [
    "solve((x**2+9)*(x-2.5),x)"
   ]
  },
  {
   "cell_type": "code",
   "execution_count": 128,
   "metadata": {},
   "outputs": [
    {
     "data": {
      "text/latex": [
       "$\\displaystyle x^{3} - 2.5 x^{2} + 9 x - 22.5$"
      ],
      "text/plain": [
       "x**3 - 2.5*x**2 + 9*x - 22.5"
      ]
     },
     "execution_count": 128,
     "metadata": {},
     "output_type": "execute_result"
    }
   ],
   "source": [
    "sp.expand((x**2+9)*(x-2.5))"
   ]
  },
  {
   "cell_type": "code",
   "execution_count": 129,
   "metadata": {},
   "outputs": [
    {
     "data": {
      "text/plain": [
       "array([4.4408921e-16+3.j, 4.4408921e-16-3.j, 2.5000000e+00+0.j])"
      ]
     },
     "execution_count": 129,
     "metadata": {},
     "output_type": "execute_result"
    }
   ],
   "source": [
    "coefs = [1,-2.5,9,-22.5]\n",
    "np.roots(coefs)"
   ]
  },
  {
   "cell_type": "code",
   "execution_count": 130,
   "metadata": {},
   "outputs": [
    {
     "data": {
      "text/plain": [
       "[0,\n",
       " 1 + (-1/2 - sqrt(3)*I/2)*(1/2 + sqrt(3)*I/2)**(1/3) + 1/((-1/2 - sqrt(3)*I/2)*(1/2 + sqrt(3)*I/2)**(1/3)),\n",
       " 1 + 1/((-1/2 + sqrt(3)*I/2)*(1/2 + sqrt(3)*I/2)**(1/3)) + (-1/2 + sqrt(3)*I/2)*(1/2 + sqrt(3)*I/2)**(1/3),\n",
       " 1 + (1/2 + sqrt(3)*I/2)**(-1/3) + (1/2 + sqrt(3)*I/2)**(1/3)]"
      ]
     },
     "execution_count": 130,
     "metadata": {},
     "output_type": "execute_result"
    }
   ],
   "source": [
    "solve(x**4-3*x**3+x,x)"
   ]
  },
  {
   "cell_type": "code",
   "execution_count": 131,
   "metadata": {},
   "outputs": [
    {
     "data": {
      "text/plain": [
       "array([ 2.87938524,  0.65270364, -0.53208889,  0.        ])"
      ]
     },
     "execution_count": 131,
     "metadata": {},
     "output_type": "execute_result"
    }
   ],
   "source": [
    "coefs = [1,-3,0,1,0]\n",
    "np.roots(coefs)"
   ]
  },
  {
   "cell_type": "code",
   "execution_count": 132,
   "metadata": {},
   "outputs": [
    {
     "data": {
      "text/plain": [
       "array([-1.26214937+0.72204368j, -1.26214937-0.72204368j,\n",
       "       -0.01351472+1.44441574j, -0.01351472-1.44441574j,\n",
       "       -1.05513865+0.22785245j, -1.05513865-0.22785245j,\n",
       "       -0.79138667+0.75559469j, -0.79138667-0.75559469j,\n",
       "       -0.39375893+0.98759052j, -0.39375893-0.98759052j,\n",
       "        0.17201633+1.09344096j,  0.17201633-1.09344096j,\n",
       "        1.23432741+0.72254909j,  1.23432741-0.72254909j,\n",
       "        0.59019389+0.86714166j,  0.59019389-0.86714166j,\n",
       "        0.99794517+0.50359311j,  0.99794517-0.50359311j,\n",
       "        1.04293108+0.j        ])"
      ]
     },
     "execution_count": 132,
     "metadata": {},
     "output_type": "execute_result"
    }
   ],
   "source": [
    "coefs = [1,0,0,0,0,0,9,0,0,0,0,0,0,4,0,0,0,0,2,-25]\n",
    "np.roots(coefs)"
   ]
  },
  {
   "cell_type": "code",
   "execution_count": 133,
   "metadata": {},
   "outputs": [
    {
     "data": {
      "text/plain": [
       "[1/2 - sqrt(3)*I/2,\n",
       " 1/2 + sqrt(3)*I/2,\n",
       " -1/3 + (-1/2 - sqrt(3)*I/2)*(sqrt(69)/18 + 25/54)**(1/3) + 1/(9*(-1/2 - sqrt(3)*I/2)*(sqrt(69)/18 + 25/54)**(1/3)),\n",
       " -1/3 + 1/(9*(-1/2 + sqrt(3)*I/2)*(sqrt(69)/18 + 25/54)**(1/3)) + (-1/2 + sqrt(3)*I/2)*(sqrt(69)/18 + 25/54)**(1/3),\n",
       " -1/3 + 1/(9*(sqrt(69)/18 + 25/54)**(1/3)) + (sqrt(69)/18 + 25/54)**(1/3)]"
      ]
     },
     "execution_count": 133,
     "metadata": {},
     "output_type": "execute_result"
    }
   ],
   "source": [
    "solve(x**5+x-1,x)"
   ]
  },
  {
   "cell_type": "code",
   "execution_count": 134,
   "metadata": {},
   "outputs": [
    {
     "data": {
      "text/plain": [
       "array([-0.87743883+0.74486177j, -0.87743883-0.74486177j,\n",
       "        0.5       +0.8660254j ,  0.5       -0.8660254j ,\n",
       "        0.75487767+0.j        ])"
      ]
     },
     "execution_count": 134,
     "metadata": {},
     "output_type": "execute_result"
    }
   ],
   "source": [
    "coefs = [1,0,0,0,1,-1]\n",
    "np.roots(coefs)"
   ]
  },
  {
   "cell_type": "markdown",
   "metadata": {},
   "source": [
    "# Resolución de sistemas de ecuaciones no lineales"
   ]
  },
  {
   "cell_type": "markdown",
   "metadata": {},
   "source": [
    "   No cabe duda de que en muchas ocasiones también tendremos que resolver sistemas de ecuaciones no lineales y no sólo una ecuación escalar, para la que ya hemos visto bastantes métodos efectivos en la primera parte de este notebook. \n",
    "\n",
    "   Ahora nos proponemos indicar también algunas posibilidades cuando se trate más bien de sistemas de ecuaciones no lineales, para las que no siempre habrá posibilidad de obtener soluciones exactas, ni tampoco existen procedimientos o algoritmos sistemáticos, como sí que los hay para el caso de sistemas lineales. No obstante, sí que disponemos de generalizaciónes adecuadas de alguno de los métodos numéricos que ya se tenían para el caso escalar y que nos permitirán al menos aproximar numéricamente, con un cierto grado de precisión determinado, dichas soluciones, en caso de que estas existan."
   ]
  },
  {
   "cell_type": "markdown",
   "metadata": {},
   "source": [
    "## Probemos primero analíticamente"
   ]
  },
  {
   "cell_type": "code",
   "execution_count": 135,
   "metadata": {},
   "outputs": [],
   "source": [
    "from sympy import symbols, Eq, solve\n",
    "# from sympy import init_printing  \n",
    "# init_printing()"
   ]
  },
  {
   "cell_type": "code",
   "execution_count": 136,
   "metadata": {},
   "outputs": [],
   "source": [
    "x, y = symbols('x, y')"
   ]
  },
  {
   "cell_type": "code",
   "execution_count": 137,
   "metadata": {},
   "outputs": [],
   "source": [
    "eq1 = Eq(x + y**2, 4)\n",
    "eq2 = Eq(x**2 + y, 4)"
   ]
  },
  {
   "cell_type": "code",
   "execution_count": 138,
   "metadata": {},
   "outputs": [
    {
     "data": {
      "text/latex": [
       "$\\displaystyle x + y^{2} = 4$"
      ],
      "text/plain": [
       "Eq(x + y**2, 4)"
      ]
     },
     "execution_count": 138,
     "metadata": {},
     "output_type": "execute_result"
    }
   ],
   "source": [
    "eq1"
   ]
  },
  {
   "cell_type": "code",
   "execution_count": 139,
   "metadata": {},
   "outputs": [
    {
     "data": {
      "text/latex": [
       "$\\displaystyle x^{2} + y = 4$"
      ],
      "text/plain": [
       "Eq(x**2 + y, 4)"
      ]
     },
     "execution_count": 139,
     "metadata": {},
     "output_type": "execute_result"
    }
   ],
   "source": [
    "eq2"
   ]
  },
  {
   "cell_type": "code",
   "execution_count": 140,
   "metadata": {},
   "outputs": [
    {
     "data": {
      "text/plain": [
       "[(-(-5/2 - sqrt(17)/2)*(3/2 - sqrt(17)/2), -sqrt(17)/2 - 1/2),\n",
       " (-(-5/2 + sqrt(17)/2)*(3/2 + sqrt(17)/2), -1/2 + sqrt(17)/2),\n",
       " (-(-3/2 + sqrt(13)/2)*(sqrt(13)/2 + 5/2), 1/2 + sqrt(13)/2),\n",
       " (-(5/2 - sqrt(13)/2)*(-sqrt(13)/2 - 3/2), 1/2 - sqrt(13)/2)]"
      ]
     },
     "execution_count": 140,
     "metadata": {},
     "output_type": "execute_result"
    }
   ],
   "source": [
    "sols = solve([eq1, eq2], [x,y])\n",
    "sols"
   ]
  },
  {
   "cell_type": "code",
   "execution_count": 141,
   "metadata": {},
   "outputs": [
    {
     "data": {
      "text/plain": [
       "[(-(-5/2 - sqrt(17)/2)*(3/2 - sqrt(17)/2), -sqrt(17)/2 - 1/2),\n",
       " (-(-5/2 + sqrt(17)/2)*(3/2 + sqrt(17)/2), -1/2 + sqrt(17)/2),\n",
       " (-(-3/2 + sqrt(13)/2)*(sqrt(13)/2 + 5/2), 1/2 + sqrt(13)/2),\n",
       " (-(5/2 - sqrt(13)/2)*(-sqrt(13)/2 - 3/2), 1/2 - sqrt(13)/2)]"
      ]
     },
     "execution_count": 141,
     "metadata": {},
     "output_type": "execute_result"
    }
   ],
   "source": [
    "# from sympy import init_printing\n",
    "# init_printing()\n",
    "sols    # en caso de que se quiera obtener las soluciones con un formato\n",
    "# más vistoso (tipo LaTeX) descomentar las dos lineas anteriores"
   ]
  },
  {
   "cell_type": "markdown",
   "metadata": {},
   "source": [
    "## Resolución numérica aproximada"
   ]
  },
  {
   "cell_type": "code",
   "execution_count": 142,
   "metadata": {},
   "outputs": [],
   "source": [
    "from scipy.optimize import fsolve\n",
    "from sympy import symbols, exp, nsolve"
   ]
  },
  {
   "cell_type": "code",
   "execution_count": 143,
   "metadata": {},
   "outputs": [],
   "source": [
    "x, y = symbols('x, y')\n",
    "def equations(p):\n",
    "    x, y = p\n",
    "\n",
    "    return (x + y**2 - 4, exp(x) + x*y -3)"
   ]
  },
  {
   "cell_type": "code",
   "execution_count": 144,
   "metadata": {},
   "outputs": [
    {
     "data": {
      "text/plain": [
       "(x + y**2 - 4, x*y + exp(x) - 3)"
      ]
     },
     "execution_count": 144,
     "metadata": {},
     "output_type": "execute_result"
    }
   ],
   "source": [
    "equations((x,y))"
   ]
  },
  {
   "cell_type": "code",
   "execution_count": 145,
   "metadata": {},
   "outputs": [
    {
     "name": "stdout",
     "output_type": "stream",
     "text": [
      "(x + y**2 - 4, x*y + exp(x) - 3)\n"
     ]
    }
   ],
   "source": [
    "print(equations((x,y)))"
   ]
  },
  {
   "cell_type": "code",
   "execution_count": 146,
   "metadata": {},
   "outputs": [
    {
     "data": {
      "text/latex": [
       "$\\displaystyle \\left[\\begin{matrix}0.620344523485226\\\\1.83838393066159\\end{matrix}\\right]$"
      ],
      "text/plain": [
       "Matrix([\n",
       "[0.620344523485226],\n",
       "[ 1.83838393066159]])"
      ]
     },
     "execution_count": 146,
     "metadata": {},
     "output_type": "execute_result"
    }
   ],
   "source": [
    "nsolve(equations((x,y)), [x,y],[1,1])"
   ]
  },
  {
   "cell_type": "code",
   "execution_count": 147,
   "metadata": {},
   "outputs": [
    {
     "data": {
      "text/latex": [
       "$\\displaystyle \\left[\\begin{matrix}0.62034452348522585617392716579154399314071550594401\\\\1.838383930661594459049793153371142549403114879699\\end{matrix}\\right]$"
      ],
      "text/plain": [
       "Matrix([\n",
       "[0.62034452348522585617392716579154399314071550594401],\n",
       "[  1.838383930661594459049793153371142549403114879699]])"
      ]
     },
     "execution_count": 147,
     "metadata": {},
     "output_type": "execute_result"
    }
   ],
   "source": [
    "nsolve(equations((x,y)), [x,y],[1,1], prec = 50)"
   ]
  },
  {
   "cell_type": "code",
   "execution_count": 148,
   "metadata": {},
   "outputs": [],
   "source": [
    "x0, y0  = (1,1)\n",
    "x, y    = fsolve(equations, (x0,y0))"
   ]
  },
  {
   "cell_type": "code",
   "execution_count": 149,
   "metadata": {},
   "outputs": [
    {
     "name": "stdout",
     "output_type": "stream",
     "text": [
      "0.6203445234801195 1.8383839306750887\n"
     ]
    }
   ],
   "source": [
    "print(x,y)"
   ]
  },
  {
   "cell_type": "code",
   "execution_count": 150,
   "metadata": {},
   "outputs": [
    {
     "name": "stdout",
     "output_type": "stream",
     "text": [
      "(4.4508396968012676e-11, -1.05120356863608e-11)\n"
     ]
    }
   ],
   "source": [
    "print(equations((x,y)))"
   ]
  },
  {
   "cell_type": "code",
   "execution_count": 151,
   "metadata": {},
   "outputs": [
    {
     "name": "stdout",
     "output_type": "stream",
     "text": [
      "Final de la práctica\n"
     ]
    }
   ],
   "source": [
    "print(\"Final de la práctica\")"
   ]
  },
  {
   "cell_type": "markdown",
   "metadata": {},
   "source": [
    "## Ejercicios"
   ]
  },
  {
   "cell_type": "markdown",
   "metadata": {},
   "source": [
    "1.- Demuestre que la ecuación  $x^3+4 x^2=10$  tiene una única raíz en el intervalo $[1,2]$.  Aproxime dicha\n",
    "raíz con el método de bisección con al menos 3 cifras decimales exactas. ¿Cuántas iteraciones serán necesarias para\n",
    "conseguir 5 cifras decimales exactas?  Aproxime también la raíz con el método de Newton-Raphson partiendo del extremo adecuado\n",
    "hasta que la diferencia en valor absoluto, entre dos aproximaciones consecutivas sea  inferior a  $10^{-3}$.\n",
    "\n",
    "2.- Encuentre una aproximación de la raíz cúbica de 25 con dos decimales exactos, usando el algoritmo de bisección.\n",
    "\n",
    "3.- Use el método de Newton-Raphson para aproximar las soluciones de las siguientes ecuaciones con tolerancia $10^{-5}$ , partiendo de\n",
    "un valor adecuado, próximo a cada una de ellas en cada caso.\n",
    "\n",
    "i) $x^3-x-1 = 0$  en $[1,2]$.\n",
    "\n",
    "ii) $3x=2+x^2-e^x$.\n",
    "\n",
    "iii) $x^2+10 cos x+x=0$.\n",
    "\n",
    "4.- Para la función  $ f(x)= 3 x^2+e^x-1$, \n",
    "\n",
    "i) encuentre, mediante el método de bisección una aproximación de la raíz en $[0,1]$ con, al menos, cuatro decimales exactos, y determine el número de iteraciones realizadas;\n",
    "\n",
    "ii) encuentre, mediante el método de Newton-Raphson, una aproximación de la raíz en $[0,1]$ con una tolerancia de $10^{-4}$,\n",
    "partiendo de $x_0=0$, y determine el número de iteraciones realizadas.  \n",
    "\n",
    "5.- Utilice las órdenes apropiadas de Python para aproximar todos los puntos donde se anulan las funciones siguientes (si es necesario, represéntelas gráficamente):\n",
    "\n",
    "i) $f(x)=x^7-x^4+2$ ,\n",
    "\n",
    "ii) $f(x)=x^7+\\cos  x-3$.\n",
    "\n",
    " 6.- Aplicar los métodos de aceleración de la convergencia de Aitken y Steffensen (según los apuntes) a las sucesiones obtenidas para los distintos métodos\n",
    "programados en esta práctica y comparar los resultados. Para aplicar el método de aceleración de Steffensen, recuerde que para transformar cualquier ecuación de la forma  $ f(x)=0 $  en un problema de puntos fijos  $ g(x)=x $, la forma más simple puede ser definir  $g(x)=x \\pm f(x)$.\n",
    "\n",
    " 7.- Programar el método de Newton-Raphson acelerado, partiendo de cierto $x_0$ adecuado: $$x_{n+1}=x_n - m\\frac{f(x_n)}{f'(x_n)}, \\quad n=0,1,2,\\ldots$$ para el caso de una raíz múltiple (de multiplicidad $m\\in\\mathbb{N}$) de una ecuación del tipo $f(x)=0$ y comparar los resultados\n",
    "con los que se obtienen mediante el empleo de los métodos de aceleración habituales de Aitken y Steffensen (según los apuntes).\n",
    "\n",
    " 8.- Programar el conocido algoritmo de Horner para la evaluación de un polinomio y emplearlo de forma reiterativa para el cálculo del\n",
    "desarrollo de Taylor de orden $ n$ de un polinomio cualquiera. Aprovecharlo también para programar una versión especial del método de Newton-Raphson para polinomios, evaluando tanto  $ p(x_k ) $ como $ p'(x_k)$ mediante el citado algoritmo y aplicarlo para aproximar alguna de las raíces reales del siguiente polinomio\n",
    "\n",
    "$$p(x)=d_0 + d_1 x + d_2 x^2 + d_3 x^3+ d_4 x^4 + d_5 x^5 + d_6 x^6 + d_7 x^7 $$\n",
    "(siendo $d_0, d_1, \\ldots, d_7$ los dígitos de su DNI, pasaporte o tarjeta de residente)."
   ]
  }
 ],
 "metadata": {
  "anaconda-cloud": {},
  "kernelspec": {
   "display_name": "Python 3",
   "language": "python",
   "name": "python3"
  },
  "language_info": {
   "codemirror_mode": {
    "name": "ipython",
    "version": 3
   },
   "file_extension": ".py",
   "mimetype": "text/x-python",
   "name": "python",
   "nbconvert_exporter": "python",
   "pygments_lexer": "ipython3",
   "version": "3.7.4"
  }
 },
 "nbformat": 4,
 "nbformat_minor": 1
}
